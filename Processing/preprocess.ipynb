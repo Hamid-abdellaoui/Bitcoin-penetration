{
 "cells": [
  {
   "cell_type": "code",
   "execution_count": 1,
   "metadata": {
    "cell_id": "09272d5587814e1d8d97335869f3e8be",
    "deepnote_cell_height": 586.390625,
    "deepnote_cell_type": "code",
    "deepnote_to_be_reexecuted": false,
    "execution_millis": 14748,
    "execution_start": 1654374842834,
    "source_hash": "1aa7ccd8",
    "tags": []
   },
   "outputs": [],
   "source": [
    "#importation des bibiotheque necessaire\n",
    "import pandas as pd\n",
    "import numpy as np\n",
    "import matplotlib.pyplot as plt\n",
    "import re\n",
    "np.set_printoptions(precision=2, linewidth=80)\n",
    "from nltk import FreqDist\n",
    "# Gensim\n",
    "import gensim\n",
    "from gensim import corpora\n",
    "from gensim.models.coherencemodel import CoherenceModel\n",
    "\n",
    "import spacy\n",
    "from nltk.corpus import stopwords\n",
    "from nltk.tokenize import word_tokenize\n",
    "import re\n",
    "#from bs4 import BeautifulSoup\n",
    "import unicodedata\n",
    "\n",
    "from spacy.lang.fr.stop_words import STOP_WORDS\n",
    "\n",
    "from sklearn.feature_extraction.text import CountVectorizer, TfidfVectorizer\n",
    "\n",
    "spacy.load('fr_core_news_md')\n",
    "import fr_core_news_md #import spacy french stemmer\n",
    "from sklearn.decomposition import NMF,LatentDirichletAllocation\n",
    "\n",
    "import pyLDAvis #Nous utilisons pyLDAvis pour créer des visualisations interactives de modèles de sujet.\n",
    "import pyLDAvis.sklearn\n",
    "\n",
    "#dealing with date\n",
    "import dateparser\n",
    "\n",
    "import datetime"
   ]
  },
  {
   "cell_type": "code",
   "execution_count": 2,
   "metadata": {
    "cell_id": "ce157d3e66d14ef18dcabcdce9f362d7",
    "deepnote_cell_height": 351,
    "deepnote_cell_type": "code",
    "deepnote_to_be_reexecuted": false,
    "execution_millis": 903,
    "execution_start": 1654374857604,
    "source_hash": "6c525f6",
    "tags": []
   },
   "outputs": [],
   "source": [
    "data_set1=pd.read_csv(\"Article19.csv\")\n",
    "data_set2=pd.read_csv(\"aujourdhui.csv\")\n",
    "data_set3=pd.read_csv(\"bladi.csv\")\n",
    "data_set4=pd.read_csv(\"challenge.csv\")\n",
    "data_set4.drop(\"link\",axis=1,inplace=True)\n",
    "data_set5=pd.read_csv(\"H24info.csv\")\n",
    "data_set5.drop(\"link\",axis=1,inplace=True)\n",
    "data_set6=pd.read_csv(\"lesiteinfo.csv\")\n",
    "data_set7=pd.read_csv(\"mapnews.csv\")\n",
    "data_set8=pd.read_csv(\"marochebdo.csv\")\n",
    "data_set9=pd.read_csv(\"media24.csv\")\n",
    "data_set10=pd.read_csv(\"telquel.csv\")\n",
    "data_set11=pd.read_csv(\"le360.csv\")\n",
    "data_set12=pd.read_csv(\"laquotidien.csv\")\n",
    "datasets = [data_set1,data_set2,data_set3,data_set4,data_set5,data_set6,\n",
    "    data_set7,data_set8,data_set9,data_set10,data_set11,data_set12]"
   ]
  },
  {
   "cell_type": "code",
   "execution_count": 3,
   "metadata": {
    "cell_id": "2a333d40369b41d2875610102837944a",
    "deepnote_cell_height": 348.375,
    "deepnote_cell_type": "code",
    "deepnote_to_be_reexecuted": false,
    "execution_millis": 13,
    "execution_start": 1654374858535,
    "source_hash": "d536693e",
    "tags": []
   },
   "outputs": [
    {
     "name": "stdout",
     "output_type": "stream",
     "text": [
      "Index(['titre', 'date', 'extrait'], dtype='object') (4162, 3)\n",
      "Index(['titre', 'date', 'extrait'], dtype='object') (19035, 3)\n",
      "Index(['titre', 'date', 'extrait'], dtype='object') (85188, 3)\n",
      "Index(['titre', 'date', 'extrait'], dtype='object') (528, 3)\n",
      "Index(['titre', 'date', 'extrait'], dtype='object') (3999, 3)\n",
      "Index(['titre', 'date', 'extrait'], dtype='object') (7812, 3)\n",
      "Index(['titre', 'date', 'extrait'], dtype='object') (5584, 3)\n",
      "Index(['titre', 'date', 'extrait'], dtype='object') (3120, 3)\n",
      "Index(['titre', 'date', 'extrait'], dtype='object') (11162, 3)\n",
      "Index(['titre', 'date', 'extrait'], dtype='object') (4860, 3)\n",
      "Index(['titre', 'date', 'extrait'], dtype='object') (21315, 3)\n",
      "Index(['titre', 'date', 'extrait'], dtype='object') (9189, 3)\n"
     ]
    }
   ],
   "source": [
    "for dataset in datasets :\n",
    "    print(dataset.columns , np.shape(dataset))"
   ]
  },
  {
   "cell_type": "code",
   "execution_count": 4,
   "metadata": {
    "cell_id": "fcb0444be0a84a0f89b75752d7c51266",
    "deepnote_cell_height": 81,
    "deepnote_cell_type": "code",
    "deepnote_to_be_reexecuted": false,
    "execution_millis": 23,
    "execution_start": 1654374858558,
    "owner_user_id": "5ba37f88-2100-451a-ba8d-396f46330da4",
    "source_hash": "bcc71bbf",
    "tags": []
   },
   "outputs": [],
   "source": [
    "whole_data_set= pd.concat(datasets)"
   ]
  },
  {
   "cell_type": "code",
   "execution_count": 5,
   "metadata": {
    "cell_id": "4d97a1825ae64df8bff67c436a648066",
    "deepnote_cell_height": 395,
    "deepnote_cell_type": "code",
    "deepnote_to_be_reexecuted": false,
    "execution_millis": 25,
    "execution_start": 1654374858614,
    "source_hash": "526d87a0",
    "tags": []
   },
   "outputs": [
    {
     "data": {
      "text/html": [
       "<div>\n",
       "<style scoped>\n",
       "    .dataframe tbody tr th:only-of-type {\n",
       "        vertical-align: middle;\n",
       "    }\n",
       "\n",
       "    .dataframe tbody tr th {\n",
       "        vertical-align: top;\n",
       "    }\n",
       "\n",
       "    .dataframe thead th {\n",
       "        text-align: right;\n",
       "    }\n",
       "</style>\n",
       "<table border=\"1\" class=\"dataframe\">\n",
       "  <thead>\n",
       "    <tr style=\"text-align: right;\">\n",
       "      <th></th>\n",
       "      <th>titre</th>\n",
       "      <th>date</th>\n",
       "      <th>extrait</th>\n",
       "    </tr>\n",
       "  </thead>\n",
       "  <tbody>\n",
       "    <tr>\n",
       "      <th>0</th>\n",
       "      <td>Transport – Royal Air Maroc, première compagni...</td>\n",
       "      <td>30/05/2022</td>\n",
       "      <td>Le transporteur national, Royal Air Maroc (RAM...</td>\n",
       "    </tr>\n",
       "    <tr>\n",
       "      <th>1</th>\n",
       "      <td>Innovation – Maroc: 10 lauréats désignés lors ...</td>\n",
       "      <td>28/05/2022</td>\n",
       "      <td>Au Maroc, 10 lauréats ont été désignés lors de...</td>\n",
       "    </tr>\n",
       "    <tr>\n",
       "      <th>2</th>\n",
       "      <td>Classement – Tanger Med en 6è position dans la...</td>\n",
       "      <td>28/05/2022</td>\n",
       "      <td>Le Port de Tanger Med a été classé en 6è posit...</td>\n",
       "    </tr>\n",
       "    <tr>\n",
       "      <th>3</th>\n",
       "      <td>Logistics – Après deux années d’absence, Logis...</td>\n",
       "      <td>28/05/2022</td>\n",
       "      <td>La 9ème édition du Salon international du tran...</td>\n",
       "    </tr>\n",
       "    <tr>\n",
       "      <th>4</th>\n",
       "      <td>Coopération – Treize MoU d’entente portant sur...</td>\n",
       "      <td>26/05/2022</td>\n",
       "      <td>Les travaux du Forum « Morocco-Israel: Connect...</td>\n",
       "    </tr>\n",
       "  </tbody>\n",
       "</table>\n",
       "</div>"
      ],
      "text/plain": [
       "                                               titre        date  \\\n",
       "0  Transport – Royal Air Maroc, première compagni...  30/05/2022   \n",
       "1  Innovation – Maroc: 10 lauréats désignés lors ...  28/05/2022   \n",
       "2  Classement – Tanger Med en 6è position dans la...  28/05/2022   \n",
       "3  Logistics – Après deux années d’absence, Logis...  28/05/2022   \n",
       "4  Coopération – Treize MoU d’entente portant sur...  26/05/2022   \n",
       "\n",
       "                                             extrait  \n",
       "0  Le transporteur national, Royal Air Maroc (RAM...  \n",
       "1  Au Maroc, 10 lauréats ont été désignés lors de...  \n",
       "2  Le Port de Tanger Med a été classé en 6è posit...  \n",
       "3  La 9ème édition du Salon international du tran...  \n",
       "4  Les travaux du Forum « Morocco-Israel: Connect...  "
      ]
     },
     "execution_count": 5,
     "metadata": {},
     "output_type": "execute_result"
    }
   ],
   "source": [
    "whole_data_set.head()"
   ]
  },
  {
   "cell_type": "code",
   "execution_count": 6,
   "metadata": {
    "cell_id": "ecabb1f2f0b54b11a6acb44cc32f8772",
    "deepnote_cell_height": 118.1875,
    "deepnote_cell_type": "code",
    "deepnote_output_heights": [
     21.1875
    ],
    "deepnote_to_be_reexecuted": false,
    "execution_millis": 2,
    "execution_start": 1654374858644,
    "source_hash": "ac2c9ac0",
    "tags": []
   },
   "outputs": [
    {
     "data": {
      "text/plain": [
       "(175954, 3)"
      ]
     },
     "execution_count": 6,
     "metadata": {},
     "output_type": "execute_result"
    }
   ],
   "source": [
    "np.shape(whole_data_set)"
   ]
  },
  {
   "cell_type": "code",
   "execution_count": 7,
   "metadata": {
    "cell_id": "0ee476c092d64108986d110d3cf095f2",
    "deepnote_cell_height": 81,
    "deepnote_cell_type": "code",
    "deepnote_to_be_reexecuted": false,
    "execution_millis": 517632,
    "execution_start": 1654374858663,
    "source_hash": "704449b6",
    "tags": []
   },
   "outputs": [],
   "source": [
    "lexique=[\"bitcoin\"]"
   ]
  },
  {
   "cell_type": "code",
   "execution_count": 8,
   "metadata": {
    "cell_id": "71c42c3288914cdab9517071d8d42f0b",
    "deepnote_cell_height": 117,
    "deepnote_cell_type": "code",
    "deepnote_to_be_reexecuted": false,
    "execution_millis": 517613,
    "execution_start": 1654374858703,
    "source_hash": "b0827c56",
    "tags": []
   },
   "outputs": [],
   "source": [
    "#output French accents correctly\n",
    "def convert_accents(text):\n",
    "    return unicodedata.normalize('NFKD', text).encode('ascii', 'ignore')"
   ]
  },
  {
   "cell_type": "code",
   "execution_count": 9,
   "metadata": {
    "cell_id": "576d7a79e9e04ec1a1138372c05eef10",
    "deepnote_cell_height": 207,
    "deepnote_cell_type": "code",
    "deepnote_to_be_reexecuted": false,
    "execution_millis": 517653,
    "execution_start": 1654374858705,
    "source_hash": "1750f95",
    "tags": []
   },
   "outputs": [],
   "source": [
    "#convertisse les documents en minuscule\n",
    "def lower_text(corpus):\n",
    "    LowerCorpus=[]\n",
    "    for doc in corpus:\n",
    "        lowerDoc=str(doc).lower() #convertissent le texte en minuscules\n",
    "        lowerDoc=convert_accents(lowerDoc).decode(\"utf-8\") #supprimes les accents\n",
    "        LowerCorpus.append(lowerDoc)\n",
    "    return LowerCorpus"
   ]
  },
  {
   "cell_type": "code",
   "execution_count": 10,
   "metadata": {
    "cell_id": "309980ea287e4c5c85e44b3fe8e3f134",
    "deepnote_cell_height": 369,
    "deepnote_cell_type": "code",
    "deepnote_to_be_reexecuted": false,
    "execution_millis": 517653,
    "execution_start": 1654374858706,
    "source_hash": "e39f5639",
    "tags": []
   },
   "outputs": [
    {
     "name": "stderr",
     "output_type": "stream",
     "text": [
      "<>:6: DeprecationWarning: invalid escape sequence \\S\n",
      "<>:13: DeprecationWarning: invalid escape sequence \\S\n",
      "<>:6: DeprecationWarning: invalid escape sequence \\S\n",
      "<>:13: DeprecationWarning: invalid escape sequence \\S\n",
      "C:\\Users\\ORIGIN~1\\AppData\\Local\\Temp/ipykernel_11112/554940301.py:6: DeprecationWarning: invalid escape sequence \\S\n",
      "  doc =re.sub('(https|http)\\S*\\s?', '',doc) #supprimes les urls\n",
      "C:\\Users\\ORIGIN~1\\AppData\\Local\\Temp/ipykernel_11112/554940301.py:13: DeprecationWarning: invalid escape sequence \\S\n",
      "  doc =re.sub('(https|http)\\S*\\s?', '',doc) #supprimes les urls\n"
     ]
    }
   ],
   "source": [
    "def remove_characters(corpus,keep_apostrophes=True):\n",
    "    filtered_corpus=[]\n",
    "    for doc in corpus:\n",
    "        doc = doc.strip()\n",
    "        if keep_apostrophes:\n",
    "            doc =re.sub('(https|http)\\S*\\s?', '',doc) #supprimes les urls\n",
    "            PATTERN = r'[?|$|&|*|%|@|(|)|~|\\d]'\n",
    "            filtered_doc = re.sub(PATTERN, r'', doc)\n",
    "            filtered_corpus.append(filtered_doc)\n",
    "        else:\n",
    "            PATTERN = r'[^a-zA-Z ]'\n",
    "            #supprimes les urls\n",
    "            doc =re.sub('(https|http)\\S*\\s?', '',doc) #supprimes les urls\n",
    "            filtered_doc = re.sub(PATTERN, r'', doc)\n",
    "        \n",
    "            filtered_corpus.append(filtered_doc)\n",
    "    return filtered_corpus"
   ]
  },
  {
   "cell_type": "code",
   "execution_count": 11,
   "metadata": {
    "cell_id": "3f78710e28cf46afb709390f406063be",
    "deepnote_cell_height": 189,
    "deepnote_cell_type": "code",
    "deepnote_to_be_reexecuted": false,
    "execution_millis": 3,
    "execution_start": 1654374858708,
    "source_hash": "aa96f7ee",
    "tags": []
   },
   "outputs": [],
   "source": [
    "#Tokenization\n",
    "def tokenize_text(corpus):\n",
    "    tokensCorpus=[]\n",
    "    for doc in corpus:\n",
    "        doc_tokens = word_tokenize(doc)\n",
    "        tokensCorpus.append(doc_tokens)\n",
    "    return tokensCorpus"
   ]
  },
  {
   "cell_type": "code",
   "execution_count": 12,
   "metadata": {
    "cell_id": "4609787f615d48068f876ea882a98b48",
    "deepnote_cell_height": 315,
    "deepnote_cell_type": "code",
    "deepnote_to_be_reexecuted": false,
    "execution_millis": 517666,
    "execution_start": 1654374858762,
    "source_hash": "9ee18350",
    "tags": []
   },
   "outputs": [],
   "source": [
    "#recuperer les mots qui apparaissent dans plusieurs documents\n",
    "def get_mostCommonWords(corpus,max_freq=100):\n",
    "    vocabulaire=dict() #dictionnaire qui va contenir le nombre d'occurence des mots dans les documents\n",
    "    for doc in corpus:\n",
    "        for word in set(doc.split()): #recupere les mots unique de chaque documents\n",
    "            if word in vocabulaire:\n",
    "                vocabulaire[word]+=1\n",
    "            else:\n",
    "                vocabulaire[word]=1\n",
    "    \n",
    "    #recupere les dont le nombre d'occurences dans les documents > max_freq\n",
    "    mostCommonsWord=[word for word,value in vocabulaire.items() if value>max_freq ]\n",
    "        \n",
    "    return mostCommonsWord"
   ]
  },
  {
   "cell_type": "code",
   "execution_count": 13,
   "metadata": {
    "cell_id": "d2196f5c0b2e4e3ebefdea1e276a10ef",
    "deepnote_cell_height": 351,
    "deepnote_cell_type": "code",
    "deepnote_to_be_reexecuted": false,
    "execution_millis": 1,
    "execution_start": 1654374858763,
    "source_hash": "9c4edcc7",
    "tags": []
   },
   "outputs": [],
   "source": [
    "# removing stopwords\n",
    "def remove_stopwords(corpus,mostCommonsWord):\n",
    "    filtered_corpus=[]\n",
    "    for tokens in corpus:\n",
    "        others_sw=[\"maroc\",\"morocco\",\"marocain\",\"marocaine\",\"marocains\",\"marocaines\",\"maghreb\",\"météorologique\",\"journée\",\n",
    "                   \"méteo\",\"retweet\",\"newspic\",\"twitter\",\"com\",\"pic\",\"newspic\",\"illustration\"]\n",
    "        \n",
    "        #french_sw = stopwords.words('french') \n",
    "        french_sw=list(STOP_WORDS) #get french stopwords\n",
    "        french_sw.extend(others_sw)\n",
    "        french_sw.extend(mostCommonsWord)\n",
    "        \n",
    "        filtered_tokens = [token for token in tokens.split() if token not in french_sw and len(token)>2]\n",
    "        filtred_text=' '.join(filtered_tokens) #reforme le text du documents separé par espace\n",
    "        filtered_corpus.append(filtred_text)\n",
    "    return filtered_corpus"
   ]
  },
  {
   "cell_type": "code",
   "execution_count": 14,
   "metadata": {
    "cell_id": "22d99e1fd2c64e4e9fa1ec4eaa3651f6",
    "deepnote_cell_height": 387,
    "deepnote_cell_type": "code",
    "deepnote_to_be_reexecuted": false,
    "execution_millis": 1,
    "execution_start": 1654374858764,
    "source_hash": "c22f9f5a",
    "tags": []
   },
   "outputs": [],
   "source": [
    "#lemmatisation\n",
    "def lemm_tokens(corpus):\n",
    "    \n",
    "    nlp = fr_core_news_md.load() #initialisation du model \"fr_core_news_md\" de spacy\n",
    "    allowed_postags=['NOUN', 'ADJ', 'VERB', 'ADV']\n",
    "    corpus_lemms=[]\n",
    "    \n",
    "    idx_doc=[] #liste qui va stocker les indices documents qui seront dans le corpus\n",
    "    for idx,document in enumerate(corpus):\n",
    "        doc = nlp(document)\n",
    "        lemms=[token.lemma_ for token in doc if token.pos_ in allowed_postags] #recupere les lemms des tokens\n",
    "        \n",
    "        if len(lemms)>5: #supprime les document qui ne contient pas plus de 2 mots\n",
    "            text=' '.join(lemms) #reforme le text du documents separé par espace\n",
    "            corpus_lemms.append(text)\n",
    "            idx_doc.append(idx) #ajoute l'indice du documents\n",
    "            \n",
    "    return corpus_lemms,idx_doc"
   ]
  },
  {
   "cell_type": "code",
   "execution_count": 15,
   "metadata": {
    "cell_id": "0ed37ceb17574f3fa68ed230658e89de",
    "deepnote_cell_height": 279,
    "deepnote_cell_type": "code",
    "deepnote_to_be_reexecuted": false,
    "execution_millis": 1,
    "execution_start": 1654374858805,
    "source_hash": "bcfa856f",
    "tags": []
   },
   "outputs": [],
   "source": [
    "#fonction qui supprimes les documents vides ou tres courte\n",
    "def remove_shortDocument(corpus,min_length=3):\n",
    "    filtred_corpus=[]\n",
    "    idx_doc=[]\n",
    "    for idx,doc in enumerate(corpus):\n",
    "        \n",
    "        if len(doc.split())>min_length:\n",
    "            filtred_corpus.append(doc)\n",
    "            idx_doc.append(idx)\n",
    "        \n",
    "    \n",
    "    return filtred_corpus,idx_doc"
   ]
  },
  {
   "cell_type": "code",
   "execution_count": 16,
   "metadata": {
    "cell_id": "91998ddb0f4d479aaa9e35313888c209",
    "deepnote_cell_height": 171,
    "deepnote_cell_type": "code",
    "deepnote_to_be_reexecuted": false,
    "execution_millis": 0,
    "execution_start": 1654374858807,
    "source_hash": "9f359994",
    "tags": []
   },
   "outputs": [],
   "source": [
    "def make_bigrams(texts):\n",
    "    bigram = gensim.models.Phrases(texts, min_count=2, threshold=10) # higher threshold fewer phrases\n",
    "    # Un moyen plus rapide d'obtenir une phrase matraquée comme un trigramme / bigramme\n",
    "    bigram_mod = gensim.models.phrases.Phraser(bigram)\n",
    "    corpus_bigram=[\" \".join(bigram_mod[doc]) for doc in texts]\n",
    "    return corpus_bigram"
   ]
  },
  {
   "cell_type": "code",
   "execution_count": 17,
   "metadata": {
    "cell_id": "e9b8f6faeab54afca026a0e53bfc0336",
    "deepnote_cell_height": 261,
    "deepnote_cell_type": "code",
    "deepnote_to_be_reexecuted": false,
    "execution_millis": 517678,
    "execution_start": 1654374858808,
    "source_hash": "15e5bea5",
    "tags": []
   },
   "outputs": [],
   "source": [
    "def preprocessing(corpus):\n",
    "    \n",
    "    corpus=lower_text(corpus)\n",
    "    corpus=remove_characters(corpus)\n",
    "    corpus=tokenize_text(corpus)\n",
    "    #corpus=remove_mostCommonWords(corpus,max_freq=20)\n",
    "    corpus=remove_stopwords(corpus)\n",
    "    corpus,idx_docs=lemm_tokens(corpus)\n",
    "    \n",
    "    \n",
    "    return corpus,idx_docs"
   ]
  },
  {
   "cell_type": "code",
   "execution_count": 18,
   "metadata": {
    "cell_id": "ea19dd3b40f84db899b1a90d7efc2f46",
    "deepnote_cell_height": 129.859375,
    "deepnote_cell_type": "code",
    "deepnote_to_be_reexecuted": false,
    "execution_millis": 1,
    "execution_start": 1654374858812,
    "source_hash": "79235090",
    "tags": []
   },
   "outputs": [
    {
     "name": "stdout",
     "output_type": "stream",
     "text": [
      "Taille du corpus = 175954 Documents\n"
     ]
    }
   ],
   "source": [
    "corpus = whole_data_set.extrait.values.tolist()\n",
    "print(\"Taille du corpus = \"+str(len(corpus))+\" Documents\")"
   ]
  },
  {
   "cell_type": "code",
   "execution_count": 19,
   "metadata": {
    "cell_id": "652c87815e0449f4bca7e40cbc7c4b37",
    "deepnote_cell_height": 81,
    "deepnote_cell_type": "code",
    "deepnote_to_be_reexecuted": false,
    "execution_millis": 1356,
    "execution_start": 1654374858826,
    "source_hash": "80905715",
    "tags": []
   },
   "outputs": [],
   "source": [
    "corpus=lower_text(corpus)"
   ]
  },
  {
   "cell_type": "code",
   "execution_count": 20,
   "metadata": {
    "cell_id": "df7306d9176f4ab3a9fd07ac651be190",
    "deepnote_cell_height": 130,
    "deepnote_cell_type": "code",
    "deepnote_to_be_reexecuted": false,
    "execution_millis": 3023,
    "execution_start": 1654374860214,
    "source_hash": "951afcc5",
    "tags": []
   },
   "outputs": [
    {
     "name": "stdout",
     "output_type": "stream",
     "text": [
      "Nombre de mots tres frequents = 1426 Mots\n"
     ]
    }
   ],
   "source": [
    "most_commonWords=get_mostCommonWords(corpus,500) #recupere les mots qui apparaisent dans plusieurs document\n",
    "print(\"Nombre de mots tres frequents = \"+str(len(most_commonWords))+\" Mots\")"
   ]
  },
  {
   "cell_type": "code",
   "execution_count": 21,
   "metadata": {
    "cell_id": "6e9b3bc7495a48d3b0f37921c0fe5158",
    "deepnote_cell_height": 148,
    "deepnote_cell_type": "code",
    "deepnote_to_be_reexecuted": false,
    "execution_millis": 134441,
    "execution_start": 1654374863251,
    "source_hash": "a7dadeb5",
    "tags": []
   },
   "outputs": [
    {
     "name": "stdout",
     "output_type": "stream",
     "text": [
      "Nouvelle Taille du corpus = 159300 Documents\n"
     ]
    }
   ],
   "source": [
    "corpus=remove_stopwords(corpus,most_commonWords)#supprimes les mots les plus frequents,les stop words et qlq mots inutiles\n",
    "corpus,idx_doc=remove_shortDocument(corpus,min_length=3) #supprimes les documents vides\n",
    "print(\"Nouvelle Taille du corpus = \"+str(len(corpus))+\" Documents\")"
   ]
  },
  {
   "cell_type": "markdown",
   "metadata": {
    "cell_id": "7fc7194135ea406d8deaffef1d197315",
    "deepnote_cell_height": 82,
    "deepnote_cell_type": "markdown",
    "tags": []
   },
   "source": [
    "# TF-IDF"
   ]
  },
  {
   "cell_type": "code",
   "execution_count": 22,
   "metadata": {
    "cell_id": "7695aec322214485a461134ef3b81380",
    "deepnote_cell_height": 202,
    "deepnote_cell_type": "code",
    "deepnote_output_heights": [
     null,
     21.1875
    ],
    "deepnote_to_be_reexecuted": false,
    "execution_millis": 38,
    "execution_start": 1654374997692,
    "source_hash": "b2ada353",
    "tags": []
   },
   "outputs": [
    {
     "name": "stderr",
     "output_type": "stream",
     "text": [
      "[nltk_data] Downloading package punkt to C:\\Users\\Original\n",
      "[nltk_data]     Shop\\AppData\\Roaming\\nltk_data...\n",
      "[nltk_data]   Package punkt is already up-to-date!\n"
     ]
    },
    {
     "data": {
      "text/plain": [
       "True"
      ]
     },
     "execution_count": 22,
     "metadata": {},
     "output_type": "execute_result"
    }
   ],
   "source": [
    "import nltk\n",
    "nltk.download('punkt')"
   ]
  },
  {
   "cell_type": "code",
   "execution_count": 23,
   "metadata": {
    "cell_id": "c6aeb3c309d14bfa870abdf7fdbb3d00",
    "deepnote_cell_height": 244.390625,
    "deepnote_cell_type": "code",
    "deepnote_to_be_reexecuted": false,
    "execution_millis": 52992,
    "execution_start": 1654374997737,
    "source_hash": "1077974a",
    "tags": []
   },
   "outputs": [],
   "source": [
    "#build TFIDF features on train reviews with a specifique vocabulary\n",
    "corpus_lemmatized=tokenize_text(corpus) \n",
    "id2word = corpora.Dictionary(corpus_lemmatized)\n",
    "vocabulaire=id2word.token2id #get vocabulary dict where keys are terms and values are indices in the feature matrix\n",
    "\n",
    "tfidf = TfidfVectorizer(use_idf=True, min_df=0.0, max_df=1.0,sublinear_tf=True,lowercase=True,ngram_range=(1,2),vocabulary=vocabulaire)\n",
    "tfidf_train_features = tfidf.fit_transform(corpus)"
   ]
  },
  {
   "cell_type": "markdown",
   "metadata": {
    "cell_id": "a7d83f5b401d49b0b597b955c3b1a94a",
    "deepnote_cell_height": 194.78125,
    "deepnote_cell_type": "markdown",
    "tags": []
   },
   "source": [
    "# Construction du modèle de sujet:\n",
    "Le modèle est construit avec 10 sujets initiaux où chaque sujet est une combinaison de mots-clés et chaque mot-clé contribue à un certain poids au sujet."
   ]
  },
  {
   "cell_type": "code",
   "execution_count": 24,
   "metadata": {
    "cell_id": "8a1c946e7359451baf13ef0c32e3260a",
    "deepnote_cell_height": 264,
    "deepnote_cell_type": "code",
    "deepnote_output_heights": [
     null,
     21.1875
    ],
    "deepnote_to_be_reexecuted": false,
    "execution_millis": 11409,
    "execution_start": 1654375050740,
    "source_hash": "fafacb0a",
    "tags": []
   },
   "outputs": [
    {
     "name": "stderr",
     "output_type": "stream",
     "text": [
      "C:\\Users\\Original Shop\\anaconda3\\lib\\site-packages\\sklearn\\decomposition\\_nmf.py:312: FutureWarning: The 'init' value, when 'init=None' and n_components is less than n_samples and n_features, will be changed from 'nndsvd' to 'nndsvda' in 1.1 (renaming of 0.26).\n",
      "  warnings.warn((\"The 'init' value, when 'init=None' and \"\n"
     ]
    },
    {
     "data": {
      "text/plain": [
       "NMF(l1_ratio=0.2, n_components=10, random_state=42)"
      ]
     },
     "execution_count": 24,
     "metadata": {},
     "output_type": "execute_result"
    }
   ],
   "source": [
    "total_topics = 10 #nombre de topics\n",
    "pos_nmf=NMF(n_components=total_topics,random_state=42,l1_ratio=0.2,max_iter=200)\n",
    "pos_nmf.fit(tfidf_train_features) "
   ]
  },
  {
   "cell_type": "markdown",
   "metadata": {
    "cell_id": "25c47611525a468694c966843c7eca06",
    "deepnote_cell_height": 82,
    "deepnote_cell_type": "markdown",
    "tags": []
   },
   "source": [
    "# Affichage des sujets"
   ]
  },
  {
   "cell_type": "code",
   "execution_count": 25,
   "metadata": {
    "cell_id": "439d66ccdcb64bbbacd877603f4b590f",
    "deepnote_cell_height": 172.390625,
    "deepnote_cell_type": "code",
    "deepnote_to_be_reexecuted": false,
    "execution_millis": 54,
    "execution_start": 1654375062149,
    "source_hash": "fffba227",
    "tags": []
   },
   "outputs": [],
   "source": [
    "# extractions des features et des poids\n",
    "pos_feature_names = tfidf.get_feature_names()\n",
    "pos_weights = pos_nmf.components_"
   ]
  },
  {
   "cell_type": "code",
   "execution_count": 26,
   "metadata": {
    "cell_id": "b8ce7236bb23428da1d327cc7ac4d528",
    "deepnote_cell_height": 783,
    "deepnote_cell_type": "code",
    "deepnote_to_be_reexecuted": false,
    "execution_millis": 29,
    "execution_start": 1654375062204,
    "source_hash": "91b23c1",
    "tags": []
   },
   "outputs": [],
   "source": [
    "# extracts topics with their terms and weights\n",
    "# format is Topic N: [(term1, weight1), ..., (termn, weightn)]        \n",
    "def get_topics_terms_weights(weights, feature_names):\n",
    "    feature_names = np.array(feature_names)\n",
    "    \n",
    "    #trie les indices des mots de chaque topics selon la poids du mots dans le topics\n",
    "    sorted_indices = np.array([list(row[::-1]) for row in np.argsort(np.abs(weights))])\n",
    "    \n",
    "    #trie les poids des mots de chaques topics,en recuperant les poids des indices deja triée\n",
    "    sorted_weights = np.array([list(wt[index]) for wt, index in zip(weights,sorted_indices)])\n",
    "    \n",
    "    #recupres les mots selon leurs indices deja triée\n",
    "    sorted_terms = np.array([list(feature_names[row]) for row in sorted_indices])\n",
    "    \n",
    "    #concatene chaque mots et sa poids sous formes de tuple (mot,poids)\n",
    "    topics = [np.vstack((terms.T, term_weights.T)).T for terms, term_weights in zip(sorted_terms, sorted_weights)]     \n",
    "    \n",
    "    return topics\n",
    "\n",
    "\n",
    "# prints components of all the topics \n",
    "# obtained from topic modeling\n",
    "def print_topics_udf(topics, total_topics=1,weight_threshold=0.0001,display_weights=False,num_terms=None):\n",
    "    \n",
    "    for index in range(total_topics):\n",
    "        topic = topics[index]\n",
    "        topic = [(term, float(wt)) for term, wt in topic] #recupere les mots et les poids du topic\n",
    "        \n",
    "        #seuillage des mots selon le seuil de poids definie\n",
    "        topic = [(word, round(wt,2)) for word, wt in topic if abs(wt) >= weight_threshold]\n",
    "        \n",
    "        #affiches les \"num_terms\" de chaque topics\n",
    "        if display_weights:\n",
    "            print('Topic #'+str(index+1)+' with weights')\n",
    "            print(topic[:num_terms]) if num_terms else topic\n",
    "        else:\n",
    "            print('Topic #'+str(index+1)+' without weights')\n",
    "            tw = [term for term, wt in topic]\n",
    "            print(tw[:num_terms]) if num_terms else tw\n",
    "        print()"
   ]
  },
  {
   "cell_type": "code",
   "execution_count": 27,
   "metadata": {
    "cell_id": "0fdc134c0a784b53ac8660acbb60006b",
    "deepnote_cell_height": 729,
    "deepnote_cell_type": "code",
    "deepnote_to_be_reexecuted": false,
    "execution_millis": 5345,
    "execution_start": 1654375062257,
    "source_hash": "12472ac7",
    "tags": []
   },
   "outputs": [
    {
     "name": "stdout",
     "output_type": "stream",
     "text": [
      "Topic #1 with weights\n",
      "[('000', 5.68), ('100', 0.63), ('200', 0.55), ('500', 0.5), ('10', 0.47), ('produire', 0.43), ('20', 0.4), ('crees', 0.4), ('400', 0.4), ('emplois', 0.35), ('milieu', 0.34), ('an', 0.3), ('peugeot', 0.3), ('50', 0.28), ('30', 0.28)]\n",
      "\n",
      "Topic #2 with weights\n",
      "[('al', 2.45), ('maghrib', 1.65), ('tetouan', 0.99), ('tanger', 0.85), ('hoceima', 0.47), ('jouahri', 0.46), ('adha', 0.18), ('bank', 0.14), ('enregistrer', 0.13), ('aid', 0.13), ('gouverneur', 0.12), ('malaga', 0.11), ('med', 0.11), ('setablir', 0.1), ('monetaires', 0.1)]\n",
      "\n",
      "Topic #3 with weights\n",
      "[('covid', 1.23), ('19', 1.19), ('il', 0.66), ('mmdh', 0.54), ('qu', 0.53), ('post', 0.47), ('benchaaboun', 0.47), ('fes', 0.47), ('2020', 0.46), ('lartisanat', 0.46), ('mdh', 0.45), ('meknes', 0.45), ('entreprises', 0.44), ('plf', 0.43), ('interieur', 0.43)]\n",
      "\n",
      "Topic #4 with weights\n",
      "[('fonciere', 1.69), ('conservation', 1.65), ('cadastre', 1.54), ('cartographie', 1.52), ('ancfcc', 1.32), ('ipai', 0.43), ('il', 0.36), ('immobilieres', 0.34), ('est', 0.29), ('trimestre', 0.27), ('glissement', 0.27), ('annuel', 0.26), ('et', 0.26), ('bam', 0.25), ('acheter', 0.23)]\n",
      "\n",
      "Topic #5 with weights\n",
      "[('indice', 1.94), ('12', 1.34), ('13', 1.16), ('pts', 0.98), ('points', 0.81), ('ipc', 0.66), ('masi', 0.54), ('precedent', 0.5), ('hausse', 0.5), ('baisse', 0.46), ('gagnant', 0.43), ('prenant', 0.39), ('principal', 0.38), ('11', 0.37), ('evoluait', 0.36)]\n",
      "\n",
      "Topic #6 with weights\n",
      "[('tui', 3.02), ('fly', 2.4), ('belgique', 1.05), ('ete', 0.48), ('lille', 0.4), ('annule', 0.39), ('oujda', 0.36), ('operer', 0.33), ('bruxelles', 0.27), ('estival', 0.27), ('brussels', 0.23), ('septembre', 0.23), ('litalie', 0.21), ('belge', 0.21), ('belgium', 0.21)]\n",
      "\n",
      "Topic #7 with weights\n",
      "[('dollar', 2.9), ('perd', 1.38), ('leuro', 0.89), ('monnaie', 0.49), ('41', 0.43), ('comporte', 0.42), ('15', 0.4), ('euro', 0.4), ('14', 0.39), ('quasi', 0.34), ('vaut', 0.25), ('hebdomadaire', 0.25), ('23', 0.25), ('quasiment', 0.24), ('27', 0.24)]\n",
      "\n",
      "Topic #8 with weights\n",
      "[('maroc', 2.64), ('israel', 0.99), ('nigeria', 0.74), ('normalisation', 0.4), ('royaume', 0.4), ('uni', 0.4), ('france', 0.39), ('aviv', 0.31), ('israeliens', 0.28), ('europe', 0.27), ('tel', 0.25), ('sous', 0.25), ('cable', 0.24), ('diplomatiques', 0.23), ('marin', 0.22)]\n",
      "\n",
      "Topic #9 with weights\n",
      "[('casablanca', 2.03), ('souss', 1.03), ('massa', 0.9), ('settat', 0.69), ('agadir', 0.66), ('marrakech', 0.55), ('rabat', 0.53), ('dakhla', 0.49), ('aviv', 0.47), ('sale', 0.44), ('tel', 0.37), ('paris', 0.33), ('easyjet', 0.32), ('lautoroute', 0.31), ('crt', 0.28)]\n",
      "\n",
      "Topic #10 with weights\n",
      "[('libre', 2.14), ('echange', 2.1), ('accord', 0.4), ('turquie', 0.37), ('ale', 0.36), ('africaine', 0.23), ('etats', 0.2), ('elalamy', 0.19), ('negociations', 0.18), ('continentale', 0.17), ('rompre', 0.17), ('unis', 0.16), ('revision', 0.15), ('israelien', 0.15), ('reviser', 0.13)]\n",
      "\n"
     ]
    }
   ],
   "source": [
    "# extract and display topics and their components\n",
    "pos_topics = get_topics_terms_weights(pos_weights, pos_feature_names)\n",
    "print_topics_udf(topics=pos_topics,total_topics=total_topics,num_terms=15,display_weights=True)"
   ]
  },
  {
   "cell_type": "markdown",
   "metadata": {
    "cell_id": "1ddf608501df4724892367105f83decf",
    "deepnote_cell_height": 194.78125,
    "deepnote_cell_type": "markdown",
    "tags": []
   },
   "source": [
    "# Calcul de la cohérence du modèle :\n",
    "La cohérence des sujets constituent une mesure pratique pour juger de la qualité d'un modèle de sujet,ici on utilise La Coherence UMass qu'on a implementé nous meme."
   ]
  },
  {
   "cell_type": "code",
   "execution_count": 28,
   "metadata": {
    "cell_id": "4383acb06a514d23ba6516e1675a2736",
    "deepnote_cell_height": 405,
    "deepnote_cell_type": "code",
    "deepnote_to_be_reexecuted": false,
    "execution_millis": 6,
    "execution_start": 1654375067610,
    "source_hash": "bc069a54",
    "tags": []
   },
   "outputs": [],
   "source": [
    "def getTopicTerms(pos_topics):\n",
    "    \"\"\"\n",
    "    Fonction qui retourne l'ensemble des mots qui compose chaque topics\n",
    "    ----Input----\n",
    "    pos_topics: ensemble des topics qui contients les mots et leurs poids\n",
    "    ---output---\n",
    "    topic_terms : ensemble des mots des topics\n",
    "    \n",
    "    \"\"\"\n",
    "    topic_terms=[]\n",
    "    for topic in pos_topics:\n",
    "        #topic=topic[:max_term] #recupere les \"max_term\" premiere mots et leurs poids\n",
    "        terms=[]\n",
    "        for doc in topic:\n",
    "            terms.append(doc[0]) #recupere justes les mots sans les poids\n",
    "        \n",
    "        topic_terms.append(terms) #ajoute l'ensemble des mots\n",
    "    \n",
    "    return topic_terms"
   ]
  },
  {
   "cell_type": "code",
   "execution_count": 29,
   "metadata": {
    "cell_id": "00e07baf70b84494845ceb6cccf0aea9",
    "deepnote_cell_height": 256,
    "deepnote_cell_type": "code",
    "deepnote_to_be_reexecuted": false,
    "execution_millis": 4915,
    "execution_start": 1654375067620,
    "source_hash": "c0a694b4",
    "tags": []
   },
   "outputs": [
    {
     "name": "stdout",
     "output_type": "stream",
     "text": [
      "Coherence =  -13.37792009885769\n"
     ]
    }
   ],
   "source": [
    "topic_terms=getTopicTerms(pos_topics) #recupere les mot des de chaque topics\n",
    "\n",
    "topic_terms=[topics[:20] for topics in topic_terms] #recupere les termes avec les plus grandes poids\n",
    "# Term Document Frequency\n",
    "common_corpus = [id2word.doc2bow(text) for text in corpus_lemmatized]\n",
    "\n",
    "cm = CoherenceModel(topics=topic_terms,corpus=common_corpus, dictionary=id2word, coherence='u_mass')\n",
    "coherence = cm.get_coherence()\n",
    "print(\"Coherence = \", coherence)"
   ]
  },
  {
   "cell_type": "markdown",
   "metadata": {
    "cell_id": "a40d8f84aea14e96ad8d9a1167cc57fd",
    "deepnote_cell_height": 217.1875,
    "deepnote_cell_type": "markdown",
    "tags": []
   },
   "source": [
    "# Trouver le nombre de sujets optimal :\n",
    "Pour trouver le nombre de sujets optimal est de construire de nombreux modèles avec différentes valeurs de nombre de sujets k et de choisir celui qui donne la valeur de cohérence UMass la plus élevée"
   ]
  },
  {
   "cell_type": "code",
   "execution_count": 30,
   "metadata": {
    "cell_id": "eb63040d82e64fca966e725e2a7bd82d",
    "deepnote_cell_height": 1035,
    "deepnote_cell_type": "code",
    "deepnote_to_be_reexecuted": false,
    "execution_millis": 5,
    "execution_start": 1654375072451,
    "source_hash": "cda595b1",
    "tags": []
   },
   "outputs": [],
   "source": [
    "def compute_coherence_values(tfidf_train_features,feature_names,corpus,data_lemmatized,id2word,max_term=20,limit=50, start=5, step=5):\n",
    "    \"\"\"\n",
    "    Calcul la coherence UMass pour different nombre de topic\n",
    "    \n",
    "    Parameters:\n",
    "    ----------\n",
    "    tfidf_train_features : features tf-idf qu'on va utiliser pour entrainer chaque model\n",
    "    feature_names : ensemble des mots contenue dans la matrice tf-idf\n",
    "    corpus: corpus de base qui contients les documents sous forme de texte\n",
    "    max_term: nombre maximal de mots qu'on va prendre pour calculé la coherence de chaque topic\n",
    "    data_lemmatized: corpus sous forme de tokens\n",
    "    id2word:vocabulaire du corpus au format de gensim\n",
    "    max_term:le nombre de termes qu'on va prendre dans chaque topic pour calculer la Coherence\n",
    "    limit : Nombre maximal de topics qu'on va tester\n",
    "\n",
    "    Returns:\n",
    "    -------\n",
    "    best_model : le model qui contient le plus grande coherence\n",
    "    coherence_values : Valeurs des Cohérences correspondant au modèle avec le nombre respectif de sujets\n",
    "    \"\"\"\n",
    "    \n",
    "    \n",
    "    model_list = [] #listes qui va contenir les modeles tester\n",
    "    coherence_values = [] #liste qui contenir les coherences de chaque models\n",
    "    # Term Document Frequency\n",
    "    \n",
    "    common_corpus = [id2word.doc2bow(text) for text in data_lemmatized] #recupere la matrice bog of word du corpus sous le format de gensim\n",
    "   \n",
    "    #print(coherence)\n",
    "    for num_topics in range(start, limit, step):\n",
    "        \n",
    "        model=NMF(n_components=num_topics,random_state=42) #model MNF\n",
    "        model.fit(tfidf_train_features)\n",
    "        weights = model.components_ #recupere les poids\n",
    "        \n",
    "        model_list.append(model) #ajoute le model la liste des models utilisé\n",
    "        \n",
    "        \n",
    "        topics=get_topics_terms_weights(weights,feature_names)\n",
    "        \n",
    "        topic_terms=getTopicTerms(topics)#recupere les mot des de chaque topics\n",
    "        \n",
    "        topic_terms=[topics[:max_term] for topics in topic_terms] #recupere les  \"max_term\" termes avec les plus grandes poids\n",
    "        \n",
    "        #calcule du Coherence UMass\n",
    "        cm = CoherenceModel(topics=topic_terms,corpus=common_corpus, dictionary=id2word, coherence='u_mass')\n",
    "        coherence = cm.get_coherence()\n",
    "        coherence_values.append(coherence)\n",
    "    \n",
    "    idx_max=np.array(coherence_values).argmax() #recupere l'indice du model qui possede le plus grands coherence\n",
    "    best_model=model_list[idx_max] #recupere le meilleur models\n",
    "    \n",
    "\n",
    "    return best_model,coherence_values"
   ]
  },
  {
   "cell_type": "code",
   "execution_count": 31,
   "metadata": {
    "cell_id": "d725282af9974945b8e7e1c555c17f5d",
    "deepnote_cell_height": 154.390625,
    "deepnote_cell_type": "code",
    "deepnote_to_be_reexecuted": false,
    "execution_millis": 7454,
    "execution_start": 1654375072511,
    "source_hash": "abe14cfd",
    "tags": []
   },
   "outputs": [
    {
     "name": "stderr",
     "output_type": "stream",
     "text": [
      "C:\\Users\\Original Shop\\anaconda3\\lib\\site-packages\\sklearn\\decomposition\\_nmf.py:312: FutureWarning: The 'init' value, when 'init=None' and n_components is less than n_samples and n_features, will be changed from 'nndsvd' to 'nndsvda' in 1.1 (renaming of 0.26).\n",
      "  warnings.warn((\"The 'init' value, when 'init=None' and \"\n",
      "C:\\Users\\Original Shop\\anaconda3\\lib\\site-packages\\sklearn\\decomposition\\_nmf.py:312: FutureWarning: The 'init' value, when 'init=None' and n_components is less than n_samples and n_features, will be changed from 'nndsvd' to 'nndsvda' in 1.1 (renaming of 0.26).\n",
      "  warnings.warn((\"The 'init' value, when 'init=None' and \"\n",
      "C:\\Users\\Original Shop\\anaconda3\\lib\\site-packages\\sklearn\\decomposition\\_nmf.py:312: FutureWarning: The 'init' value, when 'init=None' and n_components is less than n_samples and n_features, will be changed from 'nndsvd' to 'nndsvda' in 1.1 (renaming of 0.26).\n",
      "  warnings.warn((\"The 'init' value, when 'init=None' and \"\n",
      "C:\\Users\\Original Shop\\anaconda3\\lib\\site-packages\\sklearn\\decomposition\\_nmf.py:312: FutureWarning: The 'init' value, when 'init=None' and n_components is less than n_samples and n_features, will be changed from 'nndsvd' to 'nndsvda' in 1.1 (renaming of 0.26).\n",
      "  warnings.warn((\"The 'init' value, when 'init=None' and \"\n",
      "C:\\Users\\Original Shop\\anaconda3\\lib\\site-packages\\sklearn\\decomposition\\_nmf.py:1090: ConvergenceWarning: Maximum number of iterations 200 reached. Increase it to improve convergence.\n",
      "  warnings.warn(\"Maximum number of iterations %d reached. Increase it to\"\n",
      "C:\\Users\\Original Shop\\anaconda3\\lib\\site-packages\\sklearn\\decomposition\\_nmf.py:312: FutureWarning: The 'init' value, when 'init=None' and n_components is less than n_samples and n_features, will be changed from 'nndsvd' to 'nndsvda' in 1.1 (renaming of 0.26).\n",
      "  warnings.warn((\"The 'init' value, when 'init=None' and \"\n",
      "C:\\Users\\Original Shop\\anaconda3\\lib\\site-packages\\sklearn\\decomposition\\_nmf.py:312: FutureWarning: The 'init' value, when 'init=None' and n_components is less than n_samples and n_features, will be changed from 'nndsvd' to 'nndsvda' in 1.1 (renaming of 0.26).\n",
      "  warnings.warn((\"The 'init' value, when 'init=None' and \"\n",
      "C:\\Users\\Original Shop\\anaconda3\\lib\\site-packages\\sklearn\\decomposition\\_nmf.py:312: FutureWarning: The 'init' value, when 'init=None' and n_components is less than n_samples and n_features, will be changed from 'nndsvd' to 'nndsvda' in 1.1 (renaming of 0.26).\n",
      "  warnings.warn((\"The 'init' value, when 'init=None' and \"\n",
      "C:\\Users\\Original Shop\\anaconda3\\lib\\site-packages\\sklearn\\decomposition\\_nmf.py:312: FutureWarning: The 'init' value, when 'init=None' and n_components is less than n_samples and n_features, will be changed from 'nndsvd' to 'nndsvda' in 1.1 (renaming of 0.26).\n",
      "  warnings.warn((\"The 'init' value, when 'init=None' and \"\n",
      "C:\\Users\\Original Shop\\anaconda3\\lib\\site-packages\\sklearn\\decomposition\\_nmf.py:1090: ConvergenceWarning: Maximum number of iterations 200 reached. Increase it to improve convergence.\n",
      "  warnings.warn(\"Maximum number of iterations %d reached. Increase it to\"\n",
      "C:\\Users\\Original Shop\\anaconda3\\lib\\site-packages\\sklearn\\decomposition\\_nmf.py:312: FutureWarning: The 'init' value, when 'init=None' and n_components is less than n_samples and n_features, will be changed from 'nndsvd' to 'nndsvda' in 1.1 (renaming of 0.26).\n",
      "  warnings.warn((\"The 'init' value, when 'init=None' and \"\n",
      "C:\\Users\\Original Shop\\anaconda3\\lib\\site-packages\\sklearn\\decomposition\\_nmf.py:1090: ConvergenceWarning: Maximum number of iterations 200 reached. Increase it to improve convergence.\n",
      "  warnings.warn(\"Maximum number of iterations %d reached. Increase it to\"\n"
     ]
    }
   ],
   "source": [
    "best_model,coherence_values=compute_coherence_values(tfidf_train_features,pos_feature_names,\n",
    "                                                     corpus,corpus_lemmatized,id2word,max_term=20,limit=50)"
   ]
  },
  {
   "cell_type": "code",
   "execution_count": 32,
   "metadata": {
    "cell_id": "7763d437ddb94e4992d7d35f049a3a24",
    "deepnote_cell_height": 631.71875,
    "deepnote_cell_type": "code",
    "deepnote_output_heights": [
     354.734375,
     356.59375
    ],
    "deepnote_to_be_reexecuted": false,
    "execution_millis": 808,
    "execution_start": 1654375079973,
    "source_hash": "1f7dc3e0",
    "tags": []
   },
   "outputs": [
    {
     "data": {
      "image/png": "[encoded data removed]",
      "text/plain": [
       "<Figure size 720x432 with 1 Axes>"
      ]
     },
     "metadata": {},
     "output_type": "display_data"
    }
   ],
   "source": [
    "# Show graph\n",
    "import seaborn as sns\n",
    "sns.set(style=\"darkgrid\")\n",
    "plt.figure(figsize=(10,6))\n",
    "limit=50; start=5; step=5;\n",
    "x = range(start, limit, step)\n",
    "plt.plot(x,np.array(coherence_values),marker=\"o\")\n",
    "plt.xlabel(\"Nombre Topics\")\n",
    "plt.ylabel(\"Coherence score\")\n",
    "plt.legend((\"coherence_values\"), loc='best')\n",
    "plt.show()"
   ]
  },
  {
   "cell_type": "code",
   "execution_count": 33,
   "metadata": {
    "cell_id": "d9a72fe453894cf1b0dab1aee148982b",
    "deepnote_cell_height": 81,
    "deepnote_cell_type": "code",
    "deepnote_to_be_reexecuted": false,
    "execution_millis": 2,
    "execution_start": 1654375080370,
    "source_hash": "b623e53d",
    "tags": []
   },
   "outputs": [
    {
     "name": "stdout",
     "output_type": "stream",
     "text": [
      "Le nombre de topic optimal est :  25\n",
      "****************************************************************************************************\n",
      "Topic #1 without weights\n",
      "['000', '100', '200', '500', '10', 'produire', '400', 'crees', '20', 'emplois', 'milieu', 'an', '50', '30', 'chomeurs']\n",
      "\n",
      "Topic #2 without weights\n",
      "['al', 'maghrib', 'jouahri', 'adha', 'bank', 'enregistrer', 'gouverneur', 'bam', 'aid', 'setablir', 'monetaires', '42', '39', 'ipai', 'flexibilite']\n",
      "\n",
      "Topic #3 without weights\n",
      "['il', 'mmdh', 'qu', 'benchaaboun', 'plf', 'interieur', '2020', 'pib', 'entreprises', 'economie', '2021', 'administration', 'entrepreneurs', 'cgem', 'subventions']\n",
      "\n",
      "Topic #4 without weights\n",
      "['fonciere', 'conservation', 'cadastre', 'cartographie', 'ancfcc', 'ipai', 'immobilieres', 'il', 'est', 'trimestre', 'glissement', 'annuel', 'bam', 'acheter', 'baisse']\n",
      "\n",
      "Topic #5 without weights\n",
      "['indice', '12', '13', 'pts', 'points', 'masi', 'hausse', 'gagnant', 'prenant', 'principal', '11', 'evoluait', 'baisse', 'echanges', 'perdant']\n",
      "\n",
      "Topic #6 without weights\n",
      "['tui', 'fly', 'belgique', 'lille', 'ete', 'annule', 'operer', 'oujda', 'septembre', 'belgium', 'estival', 'belge', 'prevus', 'fevrier', 'montpellier']\n",
      "\n",
      "Topic #7 without weights\n",
      "['dollar', 'perd', 'leuro', 'monnaie', '41', 'comporte', 'euro', '15', '14', 'quasi', 'vaut', 'hebdomadaire', '23', '27', 'quasiment']\n",
      "\n",
      "Topic #8 without weights\n",
      "['maroc', 'israel', 'nigeria', 'normalisation', 'france', 'uni', 'royaume', 'israeliens', 'sous', 'cable', 'aviv', 'diplomatiques', 'marin', 'tel', 'israelien']\n",
      "\n",
      "Topic #9 without weights\n",
      "['casablanca', 'settat', 'aviv', 'tel', 'dakhla', 'lautoroute', 'frequences', 'domestiques', 'berrechid', 'pekin', 'canada', 'miami', 'adm', 'contournement', 'laayoune']\n",
      "\n",
      "Topic #10 without weights\n",
      "['19', 'covid', 'post', 'masques', 'mdh', 'vi', 'danone', 'anti', 'collecte', 'boycott', 'crise', 'instructions', 'fmi', 'lapres', 'pandemie']\n",
      "\n",
      "Topic #11 without weights\n",
      "['libre', 'echange', 'accord', 'turquie', 'ale', 'africaine', 'elalamy', 'etats', 'negociations', 'continentale', 'rompre', 'unis', 'revision', 'israelien', 'reviser']\n",
      "\n",
      "Topic #12 without weights\n",
      "['souss', 'massa', 'dagadir', 'crt', 'francais', 'nuitees', 'force', 'agadir', 'diffuses', 'classes', 'barre', 'touristique', 'sdr', 'visiter', 'cri']\n",
      "\n",
      "Topic #13 without weights\n",
      "['ipc', 'precedent', 'et', 'hcp', 'connu', 'augmente', 'enregistre', 'alimentaires', 'indice', 'stagnation', 'variation', 'baisse', 'boycott', 'danone', 'daout']\n",
      "\n",
      "Topic #14 without weights\n",
      "['sdx', 'forage', 'decouverte', 'puits', 'petroliere', 'gaziere', 'oil', 'gas', 'gisement', 'energy', 'chariot', 'lexploration', 'larache', 'onhym', 'dexploration']\n",
      "\n",
      "Topic #15 without weights\n",
      "['fes', 'meknes', 'agriculture', 'saiss', 'mdh', 'siam', 'cri', 'spirituelle', 'lattractivite', 'dolives', 'eau', '2017', 'technopark', '193', 'frappe']\n",
      "\n",
      "Topic #16 without weights\n",
      "['lartisanat', 'fettah', 'alaoui', 'sociale', 'aerien', 'artisanat', 'cartonne', 'sajid', 'metiers', 'preside', 'solidaire', 'artisans', 'aviv', 'precedente', 'frappe']\n",
      "\n",
      "Topic #17 without weights\n",
      "['forbes', 'milliardaires', 'riches', 'hommes', 'figurent', 'fortune', 'fortunes', 'grosses', 'riche', 'akhannouch', 'bank', 'retrouve', 'dafrique', 'estimee', 'liste']\n",
      "\n",
      "Topic #18 without weights\n",
      "['easyjet', 'marrakech', 'paris', 'agadir', 'euros', 'menara', 'dannee', 'onda', 'aeroport', 'lancera', 'safi', 'madrid', 'ete', 'gaulle', 'charles']\n",
      "\n",
      "Topic #19 without weights\n",
      "['tetouan', 'tanger', 'al', 'hoceima', 'med', 'malaga', 'region', 'dactivites', 'ikea', 'fnideq', 'conteneurs', 'cheres', '700', 'euros', 'dalgesiras']\n",
      "\n",
      "Topic #20 without weights\n",
      "['stations', 'service', 'pompe', 'automobilistes', 'litre', 'surprise', 'centimes', 'barre', 'gouvernance', 'gerants', 'affichent', 'essence', 'symbolique', 'significative', 'matin']\n",
      "\n",
      "Topic #21 without weights\n",
      "['sebta', 'contrebande', 'melilla', 'frontiere', 'indirects', 'marchandises', 'cigarettes', 'adii', 'fnideq', 'douanieres', 'poste', 'contrebandiers', 'espagnols', 'ferme', 'frontalier']\n",
      "\n",
      "Topic #22 without weights\n",
      "['sale', 'rabat', 'kenitra', 'peugeot', 'lextension', 'dextension', 'citroen', 'bad', 'terminal', 'strs', 'temara', 'airways', 'vi', 'usine', 'inauguree']\n",
      "\n",
      "Topic #23 without weights\n",
      "['europe', 'maghreb', 'gme', 'renouvellement', 'traversant', 'algerien', 'lespagne', 'non', 'lavenir', 'expiration', 'liquefie', 'algerienne', 'exporter', 'masques', 'concession']\n",
      "\n",
      "Topic #24 without weights\n",
      "['fiscaux', 'paradis', 'grise', 'lue', 'bruxelles', 'ue', 'tomate', 'europeens', 'noire', 'brussels', 'europeenne', 'retire', 'union', 'maintenu', 'reformes']\n",
      "\n",
      "Topic #25 without weights\n",
      "['fitch', 'ratings', 'notation', 'bbb', 'bb', 'perspective', 'stables', 'stable', 'degrade', 'standard', 'poors', 'souveraine', 'grade', 'investment', 'confirmer']\n",
      "\n"
     ]
    }
   ],
   "source": [
    "total_topics=best_model.n_components #recupere le nombre de topics du meilleurs modeles\n",
    "weights = best_model.components_ #recuperes les poids du meilleurs modeles\n",
    "# extract features and component weights\n",
    "feature_names = tfidf.get_feature_names()\n",
    "\n",
    "print(\"Le nombre de topic optimal est : \",total_topics)\n",
    "print(\"*\"*100)\n",
    "topics = get_topics_terms_weights(weights,feature_names)\n",
    "print_topics_udf(topics,total_topics,num_terms=15,display_weights=False)"
   ]
  },
  {
   "cell_type": "code",
   "execution_count": 34,
   "metadata": {},
   "outputs": [
    {
     "name": "stderr",
     "output_type": "stream",
     "text": [
      "C:\\Users\\Original Shop\\anaconda3\\lib\\site-packages\\pyLDAvis\\_prepare.py:246: FutureWarning: In a future version of pandas all arguments of DataFrame.drop except for the argument 'labels' will be keyword-only\n",
      "  default_term_info = default_term_info.sort_values(\n"
     ]
    },
    {
     "data": {
      "text/plain": [
       "PreparedData(topic_coordinates=              x         y  topics  cluster       Freq\n",
       "topic                                                \n",
       "2     -0.016702  0.028483       1        1  25.875630\n",
       "17    -0.138475 -0.015775       2        1   6.111978\n",
       "22    -0.116999 -0.146132       3        1   4.910840\n",
       "21    -0.107763  0.175117       4        1   4.197849\n",
       "7     -0.127562 -0.051119       5        1   4.151991\n",
       "23    -0.068412 -0.202332       6        1   4.035208\n",
       "20    -0.040518 -0.071512       7        1   3.564484\n",
       "19     0.026608 -0.011754       8        1   3.449810\n",
       "4      0.281645  0.066596       9        1   3.362874\n",
       "9      0.059047  0.030584      10        1   3.268776\n",
       "16    -0.002811 -0.020176      11        1   3.039118\n",
       "0      0.029010  0.146285      12        1   2.981216\n",
       "13    -0.052758 -0.048513      13        1   2.962579\n",
       "15    -0.062346  0.040256      14        1   2.882459\n",
       "18    -0.097223  0.134450      15        1   2.807623\n",
       "14    -0.087769  0.200909      16        1   2.747768\n",
       "1      0.173474  0.029638      17        1   2.687454\n",
       "11    -0.070439  0.152379      18        1   2.483541\n",
       "12     0.162670 -0.045697      19        1   2.406673\n",
       "24     0.081899 -0.140312      20        1   2.358876\n",
       "10    -0.067290 -0.110989      21        1   2.303815\n",
       "8     -0.123354  0.102762      22        1   2.167048\n",
       "6      0.304347  0.003929      23        1   1.839867\n",
       "3      0.183408 -0.061052      24        1   1.810222\n",
       "5     -0.121686 -0.186027      25        1   1.592305, topic_info=              Term         Freq        Total Category  logprob  loglift\n",
       "26062           al  1530.000000  1530.000000  Default  15.0000  15.0000\n",
       "17807          000  1171.000000  1171.000000  Default  14.0000  14.0000\n",
       "7061        dollar  1048.000000  1048.000000  Default  13.0000  13.0000\n",
       "3251           tui   966.000000   966.000000  Default  12.0000  12.0000\n",
       "2372         maroc  1248.000000  1248.000000  Default  11.0000  11.0000\n",
       "...            ...          ...          ...      ...      ...      ...\n",
       "8555       fevrier    52.864361    92.087601  Topic25  -4.9672   3.5850\n",
       "180          oujda    92.946824   319.044669  Topic25  -4.4029   2.9067\n",
       "1368        prevus    56.776856   133.423882  Topic25  -4.8958   3.2856\n",
       "842        estival    62.755266   206.966388  Topic25  -4.7957   2.9467\n",
       "26038  montpellier    52.467214   120.882721  Topic25  -4.9747   3.3054\n",
       "\n",
       "[996 rows x 6 columns], token_table=       Topic      Freq    Term\n",
       "term                          \n",
       "17807     12  1.000303     000\n",
       "26401     17  0.948512     061\n",
       "762        1  0.295172      10\n",
       "762        8  0.102904      10\n",
       "762        9  0.192268      10\n",
       "...      ...       ...     ...\n",
       "6187      21  1.009838    zlec\n",
       "5915      21  0.993732   zleca\n",
       "4533       8  0.984028  zrikem\n",
       "4533      19  0.023429  zrikem\n",
       "41832      8  0.976428  zrikom\n",
       "\n",
       "[2860 rows x 3 columns], R=15, lambda_step=0.01, plot_opts={'xlab': 'PC1', 'ylab': 'PC2'}, topic_order=[3, 18, 23, 22, 8, 24, 21, 20, 5, 10, 17, 1, 14, 16, 19, 15, 2, 12, 13, 25, 11, 9, 7, 4, 6])"
      ]
     },
     "execution_count": 34,
     "metadata": {},
     "output_type": "execute_result"
    }
   ],
   "source": [
    "# Visualize the topics\n",
    "pyLDAvis.sklearn.prepare(best_model,tfidf_train_features, tfidf, R=15)"
   ]
  },
  {
   "cell_type": "markdown",
   "metadata": {},
   "source": [
    "# Trouver le sujet dominant dans chaque document :\n",
    "Pour trouver cela,il suffit de trouver le numéro de topic qui a le pourcentage de contribution le plus élevé dans ce document"
   ]
  },
  {
   "cell_type": "code",
   "execution_count": 35,
   "metadata": {},
   "outputs": [],
   "source": [
    "def topic_dominant(model,tdidf_features,corpus,topics):\n",
    "    \n",
    "    #document topic distribution :la probabilité des topics pour chaque document\n",
    "    doc_topic_dist = model.transform(tdidf_features) \n",
    "    \n",
    "    topic_num=[] #liste qui contenir le numero du topic dominant dans chaque documents\n",
    "    probs_topics=[] #liste qui va contenir les probabilités du topic dominant dans chaque documents\n",
    "    topic_keywords=[] #liste qui contenir les 5 termes les plus representative du sujet\n",
    "    text_doc=[] #liste qui va contenir le texte de chaque documents\n",
    "    \n",
    "    topic_terms=getTopicTerms(topics) #recupere les mot de chaque topics\n",
    "    \n",
    "    num_doc=[]\n",
    "    \n",
    "    for i,doc in enumerate(doc_topic_dist):\n",
    "        text_doc.append(corpus[i]) #recupere le texte du documents\n",
    "        num_doc.append(i+1) #recupere le numero du documents\n",
    "        \n",
    "        idx_max=doc.argmax() #recupere l'indice du topic qui a de la probabilité maximal\n",
    "        topic_num.append(idx_max) \n",
    "        probs_topics.append(round(doc.max(),4)) #recupere la probabilité maximal arrondis\n",
    "        \n",
    "        kw=\",\".join(topic_terms[idx_max][:5]) #recupere les mots clé du topic\n",
    "        topic_keywords.append(kw)\n",
    "        \n",
    "    \n",
    "    sent_topics_df = pd.DataFrame([num_doc,topic_num,probs_topics,topic_keywords,text_doc]).T\n",
    "    sent_topics_df.columns=[\"Num Document\",\"Topic Dominant\",\"Contrib Topic\",\"Key Word\",\"Text\"]\n",
    "    \n",
    "    return sent_topics_df"
   ]
  },
  {
   "cell_type": "code",
   "execution_count": 36,
   "metadata": {},
   "outputs": [
    {
     "data": {
      "text/html": [
       "<div>\n",
       "<style scoped>\n",
       "    .dataframe tbody tr th:only-of-type {\n",
       "        vertical-align: middle;\n",
       "    }\n",
       "\n",
       "    .dataframe tbody tr th {\n",
       "        vertical-align: top;\n",
       "    }\n",
       "\n",
       "    .dataframe thead th {\n",
       "        text-align: right;\n",
       "    }\n",
       "</style>\n",
       "<table border=\"1\" class=\"dataframe\">\n",
       "  <thead>\n",
       "    <tr style=\"text-align: right;\">\n",
       "      <th></th>\n",
       "      <th>Num Document</th>\n",
       "      <th>Topic Dominant</th>\n",
       "      <th>Contrib Topic</th>\n",
       "      <th>Key Word</th>\n",
       "      <th>Text</th>\n",
       "    </tr>\n",
       "  </thead>\n",
       "  <tbody>\n",
       "    <tr>\n",
       "      <th>51873</th>\n",
       "      <td>51874</td>\n",
       "      <td>2</td>\n",
       "      <td>0.0023</td>\n",
       "      <td>il,mmdh,qu,benchaaboun,plf</td>\n",
       "      <td>dur opposees autorises lhexagone</td>\n",
       "    </tr>\n",
       "    <tr>\n",
       "      <th>149046</th>\n",
       "      <td>149047</td>\n",
       "      <td>13</td>\n",
       "      <td>0.0033</td>\n",
       "      <td>sdx,forage,decouverte,puits,petroliere</td>\n",
       "      <td>175 dirigeants prives attendus 4eme (amic),</td>\n",
       "    </tr>\n",
       "    <tr>\n",
       "      <th>97309</th>\n",
       "      <td>97310</td>\n",
       "      <td>2</td>\n",
       "      <td>0.0067</td>\n",
       "      <td>il,mmdh,qu,benchaaboun,plf</td>\n",
       "      <td>80% petites moyennes algerie touchees lie</td>\n",
       "    </tr>\n",
       "    <tr>\n",
       "      <th>151172</th>\n",
       "      <td>151173</td>\n",
       "      <td>23</td>\n",
       "      <td>0.0086</td>\n",
       "      <td>fiscaux,paradis,grise,lue,bruxelles</td>\n",
       "      <td>mediatique, salue resilience reactivite preuve...</td>\n",
       "    </tr>\n",
       "    <tr>\n",
       "      <th>144749</th>\n",
       "      <td>144750</td>\n",
       "      <td>2</td>\n",
       "      <td>0.0035</td>\n",
       "      <td>il,mmdh,qu,benchaaboun,plf</td>\n",
       "      <td>beneficiaire inscrites amelioree marges benefi...</td>\n",
       "    </tr>\n",
       "    <tr>\n",
       "      <th>158453</th>\n",
       "      <td>158454</td>\n",
       "      <td>16</td>\n",
       "      <td>0.0116</td>\n",
       "      <td>forbes,milliardaires,riches,hommes,figurent</td>\n",
       "      <td>lafarge decline axes revenant realisations 201...</td>\n",
       "    </tr>\n",
       "    <tr>\n",
       "      <th>63309</th>\n",
       "      <td>63310</td>\n",
       "      <td>2</td>\n",
       "      <td>0.0049</td>\n",
       "      <td>il,mmdh,qu,benchaaboun,plf</td>\n",
       "      <td>faillite imminente communes militants pjd, dif...</td>\n",
       "    </tr>\n",
       "    <tr>\n",
       "      <th>2307</th>\n",
       "      <td>2308</td>\n",
       "      <td>4</td>\n",
       "      <td>0.0103</td>\n",
       "      <td>indice,12,13,pts,points</td>\n",
       "      <td>778 11,45 approuves (cri) loriental</td>\n",
       "    </tr>\n",
       "    <tr>\n",
       "      <th>11227</th>\n",
       "      <td>11228</td>\n",
       "      <td>16</td>\n",
       "      <td>0.0084</td>\n",
       "      <td>forbes,milliardaires,riches,hommes,figurent</td>\n",
       "      <td>fidele engagement proposer innovations moment ...</td>\n",
       "    </tr>\n",
       "    <tr>\n",
       "      <th>104719</th>\n",
       "      <td>104720</td>\n",
       "      <td>2</td>\n",
       "      <td>0.0044</td>\n",
       "      <td>il,mmdh,qu,benchaaboun,plf</td>\n",
       "      <td>present mfadel, reference limmobilier, optique...</td>\n",
       "    </tr>\n",
       "    <tr>\n",
       "      <th>38578</th>\n",
       "      <td>38579</td>\n",
       "      <td>2</td>\n",
       "      <td>0.0064</td>\n",
       "      <td>il,mmdh,qu,benchaaboun,plf</td>\n",
       "      <td>year year interesse avancees baptise year 2020...</td>\n",
       "    </tr>\n",
       "    <tr>\n",
       "      <th>106109</th>\n",
       "      <td>106110</td>\n",
       "      <td>2</td>\n",
       "      <td>0.0084</td>\n",
       "      <td>il,mmdh,qu,benchaaboun,plf</td>\n",
       "      <td>d'entretiens, l'agriculture, forets, sadiki, l...</td>\n",
       "    </tr>\n",
       "    <tr>\n",
       "      <th>35688</th>\n",
       "      <td>35689</td>\n",
       "      <td>2</td>\n",
       "      <td>0.0029</td>\n",
       "      <td>il,mmdh,qu,benchaaboun,plf</td>\n",
       "      <td>tech chinoise china communications company/chi...</td>\n",
       "    </tr>\n",
       "    <tr>\n",
       "      <th>113558</th>\n",
       "      <td>113559</td>\n",
       "      <td>2</td>\n",
       "      <td>0.0015</td>\n",
       "      <td>il,mmdh,qu,benchaaboun,plf</td>\n",
       "      <td>aliments composes subventionnes eleveurs bovin...</td>\n",
       "    </tr>\n",
       "    <tr>\n",
       "      <th>117427</th>\n",
       "      <td>117428</td>\n",
       "      <td>22</td>\n",
       "      <td>0.0164</td>\n",
       "      <td>europe,maghreb,gme,renouvellement,traversant</td>\n",
       "      <td>assistance dematerialisation procedures d'acce...</td>\n",
       "    </tr>\n",
       "    <tr>\n",
       "      <th>53978</th>\n",
       "      <td>53979</td>\n",
       "      <td>19</td>\n",
       "      <td>0.0033</td>\n",
       "      <td>stations,service,pompe,automobilistes,litre</td>\n",
       "      <td>changements relevera larmee lair. ministres de...</td>\n",
       "    </tr>\n",
       "    <tr>\n",
       "      <th>110472</th>\n",
       "      <td>110473</td>\n",
       "      <td>2</td>\n",
       "      <td>0.0028</td>\n",
       "      <td>il,mmdh,qu,benchaaboun,plf</td>\n",
       "      <td>garantie (ccg) dimanche, fenetre \"sanad tamwil...</td>\n",
       "    </tr>\n",
       "    <tr>\n",
       "      <th>97023</th>\n",
       "      <td>97024</td>\n",
       "      <td>17</td>\n",
       "      <td>0.0225</td>\n",
       "      <td>easyjet,marrakech,paris,agadir,euros</td>\n",
       "      <td>projette hivernale milan, bruxelles, madrid, l...</td>\n",
       "    </tr>\n",
       "    <tr>\n",
       "      <th>32494</th>\n",
       "      <td>32495</td>\n",
       "      <td>2</td>\n",
       "      <td>0.0053</td>\n",
       "      <td>il,mmdh,qu,benchaaboun,plf</td>\n",
       "      <td>propositions fond gouffre, dexistence, cortege...</td>\n",
       "    </tr>\n",
       "    <tr>\n",
       "      <th>39110</th>\n",
       "      <td>39111</td>\n",
       "      <td>2</td>\n",
       "      <td>0.0014</td>\n",
       "      <td>il,mmdh,qu,benchaaboun,plf</td>\n",
       "      <td>managem wanbao mining soudan minier managem wa...</td>\n",
       "    </tr>\n",
       "  </tbody>\n",
       "</table>\n",
       "</div>"
      ],
      "text/plain": [
       "       Num Document Topic Dominant Contrib Topic  \\\n",
       "51873         51874              2        0.0023   \n",
       "149046       149047             13        0.0033   \n",
       "97309         97310              2        0.0067   \n",
       "151172       151173             23        0.0086   \n",
       "144749       144750              2        0.0035   \n",
       "158453       158454             16        0.0116   \n",
       "63309         63310              2        0.0049   \n",
       "2307           2308              4        0.0103   \n",
       "11227         11228             16        0.0084   \n",
       "104719       104720              2        0.0044   \n",
       "38578         38579              2        0.0064   \n",
       "106109       106110              2        0.0084   \n",
       "35688         35689              2        0.0029   \n",
       "113558       113559              2        0.0015   \n",
       "117427       117428             22        0.0164   \n",
       "53978         53979             19        0.0033   \n",
       "110472       110473              2        0.0028   \n",
       "97023         97024             17        0.0225   \n",
       "32494         32495              2        0.0053   \n",
       "39110         39111              2        0.0014   \n",
       "\n",
       "                                            Key Word  \\\n",
       "51873                     il,mmdh,qu,benchaaboun,plf   \n",
       "149046        sdx,forage,decouverte,puits,petroliere   \n",
       "97309                     il,mmdh,qu,benchaaboun,plf   \n",
       "151172           fiscaux,paradis,grise,lue,bruxelles   \n",
       "144749                    il,mmdh,qu,benchaaboun,plf   \n",
       "158453   forbes,milliardaires,riches,hommes,figurent   \n",
       "63309                     il,mmdh,qu,benchaaboun,plf   \n",
       "2307                         indice,12,13,pts,points   \n",
       "11227    forbes,milliardaires,riches,hommes,figurent   \n",
       "104719                    il,mmdh,qu,benchaaboun,plf   \n",
       "38578                     il,mmdh,qu,benchaaboun,plf   \n",
       "106109                    il,mmdh,qu,benchaaboun,plf   \n",
       "35688                     il,mmdh,qu,benchaaboun,plf   \n",
       "113558                    il,mmdh,qu,benchaaboun,plf   \n",
       "117427  europe,maghreb,gme,renouvellement,traversant   \n",
       "53978    stations,service,pompe,automobilistes,litre   \n",
       "110472                    il,mmdh,qu,benchaaboun,plf   \n",
       "97023           easyjet,marrakech,paris,agadir,euros   \n",
       "32494                     il,mmdh,qu,benchaaboun,plf   \n",
       "39110                     il,mmdh,qu,benchaaboun,plf   \n",
       "\n",
       "                                                     Text  \n",
       "51873                    dur opposees autorises lhexagone  \n",
       "149046        175 dirigeants prives attendus 4eme (amic),  \n",
       "97309           80% petites moyennes algerie touchees lie  \n",
       "151172  mediatique, salue resilience reactivite preuve...  \n",
       "144749  beneficiaire inscrites amelioree marges benefi...  \n",
       "158453  lafarge decline axes revenant realisations 201...  \n",
       "63309   faillite imminente communes militants pjd, dif...  \n",
       "2307                  778 11,45 approuves (cri) loriental  \n",
       "11227   fidele engagement proposer innovations moment ...  \n",
       "104719  present mfadel, reference limmobilier, optique...  \n",
       "38578   year year interesse avancees baptise year 2020...  \n",
       "106109  d'entretiens, l'agriculture, forets, sadiki, l...  \n",
       "35688   tech chinoise china communications company/chi...  \n",
       "113558  aliments composes subventionnes eleveurs bovin...  \n",
       "117427  assistance dematerialisation procedures d'acce...  \n",
       "53978   changements relevera larmee lair. ministres de...  \n",
       "110472  garantie (ccg) dimanche, fenetre \"sanad tamwil...  \n",
       "97023   projette hivernale milan, bruxelles, madrid, l...  \n",
       "32494   propositions fond gouffre, dexistence, cortege...  \n",
       "39110   managem wanbao mining soudan minier managem wa...  "
      ]
     },
     "execution_count": 36,
     "metadata": {},
     "output_type": "execute_result"
    }
   ],
   "source": [
    "sent_topics_df=topic_dominant(best_model,tfidf_train_features,corpus,topics)\n",
    "sent_topics_df.sample(20)"
   ]
  },
  {
   "cell_type": "markdown",
   "metadata": {},
   "source": [
    "# Trouvez le document le plus représentatif pour chaque sujet :\n",
    "Parfois, seuls les mots-clés du sujet peuvent ne pas être suffisants pour donner un sens au sujet d'un sujet. Donc, pour vous aider à comprendre le sujet, vous pouvez trouver les documents auxquels un sujet donné a le plus contribué et en déduire le sujet en lisant ce document"
   ]
  },
  {
   "cell_type": "code",
   "execution_count": 37,
   "metadata": {},
   "outputs": [
    {
     "data": {
      "text/html": [
       "<div>\n",
       "<style scoped>\n",
       "    .dataframe tbody tr th:only-of-type {\n",
       "        vertical-align: middle;\n",
       "    }\n",
       "\n",
       "    .dataframe tbody tr th {\n",
       "        vertical-align: top;\n",
       "    }\n",
       "\n",
       "    .dataframe thead th {\n",
       "        text-align: right;\n",
       "    }\n",
       "</style>\n",
       "<table border=\"1\" class=\"dataframe\">\n",
       "  <thead>\n",
       "    <tr style=\"text-align: right;\">\n",
       "      <th></th>\n",
       "      <th>Topic Dominant</th>\n",
       "      <th>Contrib Topic</th>\n",
       "      <th>Key Word</th>\n",
       "      <th>Text</th>\n",
       "    </tr>\n",
       "  </thead>\n",
       "  <tbody>\n",
       "    <tr>\n",
       "      <th>0</th>\n",
       "      <td>0</td>\n",
       "      <td>0.0585</td>\n",
       "      <td>000,100,200,500,10</td>\n",
       "      <td>500.000 doubler (somaca) 160.000</td>\n",
       "    </tr>\n",
       "    <tr>\n",
       "      <th>1</th>\n",
       "      <td>1</td>\n",
       "      <td>0.2073</td>\n",
       "      <td>al,maghrib,jouahri,adha,bank</td>\n",
       "      <td>3,1% enregistrer 3,1% 3,6% al-maghrib.</td>\n",
       "    </tr>\n",
       "    <tr>\n",
       "      <th>2</th>\n",
       "      <td>2</td>\n",
       "      <td>0.0351</td>\n",
       "      <td>il,mmdh,qu,benchaaboun,plf</td>\n",
       "      <td>5,9 plf 72,6 (mmdh), 5,9 interieur (pib).</td>\n",
       "    </tr>\n",
       "    <tr>\n",
       "      <th>3</th>\n",
       "      <td>3</td>\n",
       "      <td>0.27</td>\n",
       "      <td>fonciere,conservation,cadastre,cartographie,an...</td>\n",
       "      <td>conservation fonciere, cadastre cartographie (...</td>\n",
       "    </tr>\n",
       "    <tr>\n",
       "      <th>4</th>\n",
       "      <td>4</td>\n",
       "      <td>0.1999</td>\n",
       "      <td>indice,12,13,pts,points</td>\n",
       "      <td>indice, gagnant 0,13% 12.671,13 points.</td>\n",
       "    </tr>\n",
       "    <tr>\n",
       "      <th>5</th>\n",
       "      <td>5</td>\n",
       "      <td>0.2254</td>\n",
       "      <td>tui,fly,belgique,lille,ete</td>\n",
       "      <td>tui fly tui fly</td>\n",
       "    </tr>\n",
       "    <tr>\n",
       "      <th>6</th>\n",
       "      <td>6</td>\n",
       "      <td>0.166</td>\n",
       "      <td>dollar,perd,leuro,monnaie,41</td>\n",
       "      <td>perd 0,4% 0,5% dollar,</td>\n",
       "    </tr>\n",
       "    <tr>\n",
       "      <th>7</th>\n",
       "      <td>7</td>\n",
       "      <td>0.1202</td>\n",
       "      <td>maroc,israel,nigeria,normalisation,france</td>\n",
       "      <td>l'initiative conjointe chambres d'industrie ma...</td>\n",
       "    </tr>\n",
       "    <tr>\n",
       "      <th>8</th>\n",
       "      <td>8</td>\n",
       "      <td>0.0862</td>\n",
       "      <td>casablanca,settat,aviv,tel,dakhla</td>\n",
       "      <td>domestiques, frequences casablanca-dakhla casa...</td>\n",
       "    </tr>\n",
       "    <tr>\n",
       "      <th>9</th>\n",
       "      <td>9</td>\n",
       "      <td>0.1505</td>\n",
       "      <td>19,covid,post,masques,mdh</td>\n",
       "      <td>post-covid-19 debat post-covid-19 saadeddine o...</td>\n",
       "    </tr>\n",
       "    <tr>\n",
       "      <th>10</th>\n",
       "      <td>10</td>\n",
       "      <td>0.157</td>\n",
       "      <td>libre,echange,accord,turquie,ale</td>\n",
       "      <td>libre-echange reformant libre-echange (ale) ap...</td>\n",
       "    </tr>\n",
       "    <tr>\n",
       "      <th>11</th>\n",
       "      <td>11</td>\n",
       "      <td>0.1817</td>\n",
       "      <td>souss,massa,dagadir,crt,francais</td>\n",
       "      <td>dacceleration souss massa, linnovation souss m...</td>\n",
       "    </tr>\n",
       "    <tr>\n",
       "      <th>12</th>\n",
       "      <td>12</td>\n",
       "      <td>0.2013</td>\n",
       "      <td>ipc,precedent,et,hcp,connu</td>\n",
       "      <td>(ipc) connu, 0,3% precedent,</td>\n",
       "    </tr>\n",
       "    <tr>\n",
       "      <th>13</th>\n",
       "      <td>13</td>\n",
       "      <td>0.1812</td>\n",
       "      <td>sdx,forage,decouverte,puits,petroliere</td>\n",
       "      <td>prospection puits sdx sdx londres lexploration...</td>\n",
       "    </tr>\n",
       "    <tr>\n",
       "      <th>14</th>\n",
       "      <td>14</td>\n",
       "      <td>0.1571</td>\n",
       "      <td>fes,meknes,agriculture,saiss,mdh</td>\n",
       "      <td>fes-meknes 1,715 fes-meknes, fes, khemlichi.</td>\n",
       "    </tr>\n",
       "    <tr>\n",
       "      <th>15</th>\n",
       "      <td>15</td>\n",
       "      <td>0.2048</td>\n",
       "      <td>lartisanat,fettah,alaoui,sociale,aerien</td>\n",
       "      <td>fettah alaoui, lartisanat, sociale.</td>\n",
       "    </tr>\n",
       "    <tr>\n",
       "      <th>16</th>\n",
       "      <td>16</td>\n",
       "      <td>0.2368</td>\n",
       "      <td>forbes,milliardaires,riches,hommes,figurent</td>\n",
       "      <td>hommes riches forbes riches forbes. retrouve m...</td>\n",
       "    </tr>\n",
       "    <tr>\n",
       "      <th>17</th>\n",
       "      <td>17</td>\n",
       "      <td>0.1588</td>\n",
       "      <td>easyjet,marrakech,paris,agadir,euros</td>\n",
       "      <td>easyjet easyjet nantes-atlantique, marrakech-m...</td>\n",
       "    </tr>\n",
       "    <tr>\n",
       "      <th>18</th>\n",
       "      <td>18</td>\n",
       "      <td>0.1581</td>\n",
       "      <td>tetouan,tanger,al,hoceima,med</td>\n",
       "      <td>tetouan tetouan letude tanger-tetouan-al hocei...</td>\n",
       "    </tr>\n",
       "    <tr>\n",
       "      <th>19</th>\n",
       "      <td>19</td>\n",
       "      <td>0.1764</td>\n",
       "      <td>stations,service,pompe,automobilistes,litre</td>\n",
       "      <td>l'epidemie pompe affichent stations-service</td>\n",
       "    </tr>\n",
       "  </tbody>\n",
       "</table>\n",
       "</div>"
      ],
      "text/plain": [
       "   Topic Dominant Contrib Topic  \\\n",
       "0               0        0.0585   \n",
       "1               1        0.2073   \n",
       "2               2        0.0351   \n",
       "3               3          0.27   \n",
       "4               4        0.1999   \n",
       "5               5        0.2254   \n",
       "6               6         0.166   \n",
       "7               7        0.1202   \n",
       "8               8        0.0862   \n",
       "9               9        0.1505   \n",
       "10             10         0.157   \n",
       "11             11        0.1817   \n",
       "12             12        0.2013   \n",
       "13             13        0.1812   \n",
       "14             14        0.1571   \n",
       "15             15        0.2048   \n",
       "16             16        0.2368   \n",
       "17             17        0.1588   \n",
       "18             18        0.1581   \n",
       "19             19        0.1764   \n",
       "\n",
       "                                             Key Word  \\\n",
       "0                                  000,100,200,500,10   \n",
       "1                        al,maghrib,jouahri,adha,bank   \n",
       "2                          il,mmdh,qu,benchaaboun,plf   \n",
       "3   fonciere,conservation,cadastre,cartographie,an...   \n",
       "4                             indice,12,13,pts,points   \n",
       "5                          tui,fly,belgique,lille,ete   \n",
       "6                        dollar,perd,leuro,monnaie,41   \n",
       "7           maroc,israel,nigeria,normalisation,france   \n",
       "8                   casablanca,settat,aviv,tel,dakhla   \n",
       "9                           19,covid,post,masques,mdh   \n",
       "10                   libre,echange,accord,turquie,ale   \n",
       "11                   souss,massa,dagadir,crt,francais   \n",
       "12                         ipc,precedent,et,hcp,connu   \n",
       "13             sdx,forage,decouverte,puits,petroliere   \n",
       "14                   fes,meknes,agriculture,saiss,mdh   \n",
       "15            lartisanat,fettah,alaoui,sociale,aerien   \n",
       "16        forbes,milliardaires,riches,hommes,figurent   \n",
       "17               easyjet,marrakech,paris,agadir,euros   \n",
       "18                      tetouan,tanger,al,hoceima,med   \n",
       "19        stations,service,pompe,automobilistes,litre   \n",
       "\n",
       "                                                 Text  \n",
       "0                    500.000 doubler (somaca) 160.000  \n",
       "1              3,1% enregistrer 3,1% 3,6% al-maghrib.  \n",
       "2           5,9 plf 72,6 (mmdh), 5,9 interieur (pib).  \n",
       "3   conservation fonciere, cadastre cartographie (...  \n",
       "4             indice, gagnant 0,13% 12.671,13 points.  \n",
       "5                                     tui fly tui fly  \n",
       "6                              perd 0,4% 0,5% dollar,  \n",
       "7   l'initiative conjointe chambres d'industrie ma...  \n",
       "8   domestiques, frequences casablanca-dakhla casa...  \n",
       "9   post-covid-19 debat post-covid-19 saadeddine o...  \n",
       "10  libre-echange reformant libre-echange (ale) ap...  \n",
       "11  dacceleration souss massa, linnovation souss m...  \n",
       "12                       (ipc) connu, 0,3% precedent,  \n",
       "13  prospection puits sdx sdx londres lexploration...  \n",
       "14       fes-meknes 1,715 fes-meknes, fes, khemlichi.  \n",
       "15                fettah alaoui, lartisanat, sociale.  \n",
       "16  hommes riches forbes riches forbes. retrouve m...  \n",
       "17  easyjet easyjet nantes-atlantique, marrakech-m...  \n",
       "18  tetouan tetouan letude tanger-tetouan-al hocei...  \n",
       "19        l'epidemie pompe affichent stations-service  "
      ]
     },
     "execution_count": 37,
     "metadata": {},
     "output_type": "execute_result"
    }
   ],
   "source": [
    "# Group top 5 sentences under each topic\n",
    "sent_topics_sorted = pd.DataFrame()\n",
    "\n",
    "sent_topics_outdf_grpd =sent_topics_df.groupby('Topic Dominant')\n",
    "\n",
    "for i, grp in sent_topics_outdf_grpd:\n",
    "    sent_topics_sorted= pd.concat([sent_topics_sorted, grp.sort_values(['Contrib Topic'], ascending=[0]).head(1)], \n",
    "                                    axis=0)\n",
    "\n",
    "# Reset Index    \n",
    "sent_topics_sorted.reset_index(drop=True, inplace=True)\n",
    "\n",
    "# Format\n",
    "sent_topics_sorted=sent_topics_sorted.drop([\"Num Document\"],axis=1)\n",
    "# Show\n",
    "sent_topics_sorted.head(20)"
   ]
  },
  {
   "cell_type": "code",
   "execution_count": 38,
   "metadata": {},
   "outputs": [
    {
     "name": "stderr",
     "output_type": "stream",
     "text": [
      "C:\\Users\\Original Shop\\anaconda3\\lib\\site-packages\\dateparser\\date_parser.py:35: PytzUsageWarning: The localize method is no longer necessary, as this time zone supports the fold attribute (PEP 495). For more details on migrating to a PEP 495-compliant implementation, see https://pytz-deprecation-shim.readthedocs.io/en/latest/migration.html\n",
      "  date_obj = stz.localize(date_obj)\n"
     ]
    }
   ],
   "source": [
    "def format_date(date):\n",
    "    return  dateparser.parse(str(date)).date()\n",
    "\n",
    "whole_data_set[\"New_Date\"] = whole_data_set[\"date\"].apply(format_date)"
   ]
  },
  {
   "cell_type": "code",
   "execution_count": 39,
   "metadata": {},
   "outputs": [
    {
     "data": {
      "text/html": [
       "<div>\n",
       "<style scoped>\n",
       "    .dataframe tbody tr th:only-of-type {\n",
       "        vertical-align: middle;\n",
       "    }\n",
       "\n",
       "    .dataframe tbody tr th {\n",
       "        vertical-align: top;\n",
       "    }\n",
       "\n",
       "    .dataframe thead th {\n",
       "        text-align: right;\n",
       "    }\n",
       "</style>\n",
       "<table border=\"1\" class=\"dataframe\">\n",
       "  <thead>\n",
       "    <tr style=\"text-align: right;\">\n",
       "      <th></th>\n",
       "      <th>titre</th>\n",
       "      <th>date</th>\n",
       "      <th>extrait</th>\n",
       "      <th>New_Date</th>\n",
       "    </tr>\n",
       "  </thead>\n",
       "  <tbody>\n",
       "    <tr>\n",
       "      <th>30446</th>\n",
       "      <td>Maroc : les banques durcissent les conditions ...</td>\n",
       "      <td>2020-11-25</td>\n",
       "      <td>Maroc : les banques durcissent les conditions ...</td>\n",
       "      <td>2020-11-25</td>\n",
       "    </tr>\n",
       "    <tr>\n",
       "      <th>13815</th>\n",
       "      <td>COP22 : The round up</td>\n",
       "      <td>2016-11-21 13:49:06+01:00</td>\n",
       "      <td>Proclamation de Marrakech, partenariat global ...</td>\n",
       "      <td>2016-11-21</td>\n",
       "    </tr>\n",
       "    <tr>\n",
       "      <th>16619</th>\n",
       "      <td>L’industrie de la gestion d’OPCVM souffle sa 2...</td>\n",
       "      <td>2015-05-22 00:00:00+01:00</td>\n",
       "      <td>L’Association des sociétés de gestion et fonds...</td>\n",
       "      <td>2015-05-22</td>\n",
       "    </tr>\n",
       "    <tr>\n",
       "      <th>1332</th>\n",
       "      <td>Le Roi Mohammed VI reçoit Elalamy et le PDG du...</td>\n",
       "      <td>25/10/2018</td>\n",
       "      <td>Le Roi Mohammed VI a reçu jeudi au Palais Roya...</td>\n",
       "      <td>2018-10-25</td>\n",
       "    </tr>\n",
       "    <tr>\n",
       "      <th>551</th>\n",
       "      <td>EEP : légère amélioration des délais de paieme...</td>\n",
       "      <td>2022-02-01</td>\n",
       "      <td>\\nLa moyenne des délais de paiement déclarés p...</td>\n",
       "      <td>2022-02-01</td>\n",
       "    </tr>\n",
       "    <tr>\n",
       "      <th>5050</th>\n",
       "      <td>Covid-19. L’indemnité-chômage maintenue jusqu’...</td>\n",
       "      <td>07/08/2020</td>\n",
       "      <td>La décision de prolonger l’octroi de l’indemni...</td>\n",
       "      <td>2020-07-08</td>\n",
       "    </tr>\n",
       "    <tr>\n",
       "      <th>78063</th>\n",
       "      <td>Les Marocains du monde envoient en masse des d...</td>\n",
       "      <td>2016-05-25</td>\n",
       "      <td>Les Marocains du monde envoient en masse des d...</td>\n",
       "      <td>2016-05-25</td>\n",
       "    </tr>\n",
       "  </tbody>\n",
       "</table>\n",
       "</div>"
      ],
      "text/plain": [
       "                                                   titre  \\\n",
       "30446  Maroc : les banques durcissent les conditions ...   \n",
       "13815                               COP22 : The round up   \n",
       "16619  L’industrie de la gestion d’OPCVM souffle sa 2...   \n",
       "1332   Le Roi Mohammed VI reçoit Elalamy et le PDG du...   \n",
       "551    EEP : légère amélioration des délais de paieme...   \n",
       "5050   Covid-19. L’indemnité-chômage maintenue jusqu’...   \n",
       "78063  Les Marocains du monde envoient en masse des d...   \n",
       "\n",
       "                            date  \\\n",
       "30446                 2020-11-25   \n",
       "13815  2016-11-21 13:49:06+01:00   \n",
       "16619  2015-05-22 00:00:00+01:00   \n",
       "1332                  25/10/2018   \n",
       "551                   2022-02-01   \n",
       "5050                  07/08/2020   \n",
       "78063                 2016-05-25   \n",
       "\n",
       "                                                 extrait    New_Date  \n",
       "30446  Maroc : les banques durcissent les conditions ...  2020-11-25  \n",
       "13815  Proclamation de Marrakech, partenariat global ...  2016-11-21  \n",
       "16619  L’Association des sociétés de gestion et fonds...  2015-05-22  \n",
       "1332   Le Roi Mohammed VI a reçu jeudi au Palais Roya...  2018-10-25  \n",
       "551    \\nLa moyenne des délais de paiement déclarés p...  2022-02-01  \n",
       "5050   La décision de prolonger l’octroi de l’indemni...  2020-07-08  \n",
       "78063  Les Marocains du monde envoient en masse des d...  2016-05-25  "
      ]
     },
     "execution_count": 39,
     "metadata": {},
     "output_type": "execute_result"
    }
   ],
   "source": [
    "whole_data_set.sample(7)"
   ]
  },
  {
   "cell_type": "code",
   "execution_count": 40,
   "metadata": {},
   "outputs": [
    {
     "name": "stderr",
     "output_type": "stream",
     "text": [
      "C:\\Users\\ORIGIN~1\\AppData\\Local\\Temp/ipykernel_11112/3775401199.py:15: FutureWarning: Indexing with multiple keys (implicitly converted to a tuple of keys) will be deprecated, use a list instead.\n",
      "  stories=df.groupby(\"doc_num\")[\"text\",\"Date\"].min().reset_index() #trie les articles selon les dates\n"
     ]
    }
   ],
   "source": [
    "#recupere les dates sous formes de datime,on cherche juste les documents dont les indices sont \"idx_doc\"\n",
    "dates=pd.to_datetime((whole_data_set.iloc[idx_doc][\"New_Date\"].values)[:-2])\n",
    "\n",
    "#dates=pd.to_datetime(dataset[\"date\"].values)#recupere les dates sous formes de datime\n",
    "\n",
    "#document topic distribution :la probabilité des topics pour chaque document\n",
    "doc_topic_dist = best_model.transform(tfidf_train_features) \n",
    "\n",
    "labels=getTopicTerms(topics) #recupere les mots des topics\n",
    "labels=[\",\".join(topic_term[:5]) for topic_term in labels] #recupere juste les 3 premieres mots\n",
    "\n",
    "#formation 'un dataframe qui contient la date,le numero et le text de chaque documents\n",
    "df=pd.DataFrame({\"text\":corpus[:-2],\"Date\":dates,\"doc_num\":np.arange(len(corpus)-2)})\n",
    "\n",
    "stories=df.groupby(\"doc_num\")[\"text\",\"Date\"].min().reset_index() #trie les articles selon les dates\n",
    "\n",
    "#formation d'un dataframe qui contient juste le numero de chaque document du corpus\n",
    "story_topics=pd.DataFrame(dict(doc_num=np.arange(doc_topic_dist.shape[0])))\n",
    "\n",
    "\n",
    "#recuperation des poids de chaque sujets dans chaque documents,puis on cree un une colonne dans le dataframe \n",
    "#qui va contenir l'ensemble de ces poids pour chaque sujets\n",
    "for idx in range(len(labels)):\n",
    "    story_topics[labels[idx]] = doc_topic_dist[:, idx]\n",
    "\n",
    "\n",
    "#concatenations des dataframes par rapport au numero de documents\n",
    "trends = stories.merge(story_topics, on='doc_num')\n",
    "\n",
    "mass = lambda x: ((x) * 1.0).sum() / x.shape[0] #fonction qui calcule la moyenne \n",
    "window = 10\n",
    "aggs = {labels[17]: mass,labels[4]:mass,labels[23]:mass,labels[16]:mass,labels[11]:mass}\n",
    "\n",
    "#regroupe les poids par date,puis calcule la moyenne de chaque groupe,puis ouvre une fenetre glissant et enfin calcul la moyenne\n",
    "data=trends.groupby(trends['Date'].dt.date).agg(aggs).rolling(window).mean()"
   ]
  },
  {
   "cell_type": "code",
   "execution_count": 41,
   "metadata": {},
   "outputs": [
    {
     "data": {
      "text/plain": [
       "<AxesSubplot:xlabel='Date'>"
      ]
     },
     "execution_count": 41,
     "metadata": {},
     "output_type": "execute_result"
    },
    {
     "data": {
      "image/png": "[encoded data removed]",
      "text/plain": [
       "<Figure size 1080x576 with 1 Axes>"
      ]
     },
     "metadata": {},
     "output_type": "display_data"
    }
   ],
   "source": [
    "plt.figure(figsize=(15,8))\n",
    "sns.lineplot(data=data, palette=\"tab10\", linewidth=2.5)"
   ]
  },
  {
   "cell_type": "markdown",
   "metadata": {
    "created_in_deepnote_cell": true,
    "deepnote_cell_type": "markdown",
    "tags": []
   },
   "source": [
    "<a style='text-decoration:none;line-height:16px;display:flex;color:#5B5B62;padding:10px;justify-content:end;' href='https://deepnote.com?utm_source=created-in-deepnote-cell&projectId=749251a5-b032-43b6-9ff6-da57d492ca8d' target=\"_blank\">\n",
    "<img alt='Created in deepnote.com' style='display:inline;max-height:16px;margin:0px;margin-right:7.5px;' src='data:image/svg+xml;base64,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' > </img>\n",
    "Created in <span style='font-weight:600;margin-left:4px;'>Deepnote</span></a>"
   ]
  },
  {
   "cell_type": "code",
   "execution_count": null,
   "metadata": {},
   "outputs": [],
   "source": []
  }
 ],
 "metadata": {
  "deepnote": {},
  "deepnote_execution_queue": [],
  "deepnote_notebook_id": "679b762d-daae-4e2d-9b6b-f80d8e9a2ad2",
  "kernelspec": {
   "display_name": "Python 3 (ipykernel)",
   "language": "python",
   "name": "python3"
  },
  "language_info": {
   "codemirror_mode": {
    "name": "ipython",
    "version": 3
   },
   "file_extension": ".py",
   "mimetype": "text/x-python",
   "name": "python",
   "nbconvert_exporter": "python",
   "pygments_lexer": "ipython3",
   "version": "3.9.7"
  }
 },
 "nbformat": 4,
 "nbformat_minor": 2
}
